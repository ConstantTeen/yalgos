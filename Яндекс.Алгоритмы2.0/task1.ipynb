{
 "cells": [
  {
   "cell_type": "code",
   "execution_count": 11,
   "metadata": {},
   "outputs": [
    {
     "name": "stdout",
     "output_type": "stream",
     "text": [
      "3\n"
     ]
    }
   ],
   "source": [
    "with open('input.txt', 'r') as f:\n",
    "    n, i, j = map(int, f.readline().split())\n",
    "i,j = sorted([i,j])\n",
    "print(min(max(0,j-i-1), i-1+n-j))"
   ]
  },
  {
   "cell_type": "code",
   "execution_count": 8,
   "metadata": {},
   "outputs": [],
   "source": []
  },
  {
   "cell_type": "code",
   "execution_count": 17,
   "metadata": {},
   "outputs": [
    {
     "name": "stdout",
     "output_type": "stream",
     "text": [
      "0\n"
     ]
    }
   ],
   "source": [
    "with open('input.txt', 'r') as f:\n",
    "    x,y,z = map(int, f.readline().split())\n",
    "if x > 12 or y > 12:\n",
    "    print(1)\n",
    "elif x == y:\n",
    "    print(1)\n",
    "else:\n",
    "    print(0)"
   ]
  },
  {
   "cell_type": "code",
   "execution_count": 16,
   "metadata": {},
   "outputs": [
    {
     "name": "stdout",
     "output_type": "stream",
     "text": [
      "0\n"
     ]
    }
   ],
   "source": []
  },
  {
   "cell_type": "code",
   "execution_count": 29,
   "metadata": {},
   "outputs": [],
   "source": [
    "with open('input.txt', 'r') as f:\n",
    "    n = int(f.readline())\n",
    "    arr = list(map(int, f.readline().split()))\n",
    "print(arr[n // 2])"
   ]
  },
  {
   "cell_type": "code",
   "execution_count": 30,
   "metadata": {},
   "outputs": [
    {
     "name": "stdout",
     "output_type": "stream",
     "text": [
      "3\n"
     ]
    }
   ],
   "source": []
  },
  {
   "cell_type": "code",
   "execution_count": 43,
   "metadata": {},
   "outputs": [
    {
     "name": "stdout",
     "output_type": "stream",
     "text": [
      "0\n"
     ]
    }
   ],
   "source": [
    "with open('input.txt', 'r') as f:\n",
    "    d = int(f.readline())\n",
    "    x, y = map(int, f.readline().split())\n",
    "    \n",
    "if y <= -x + d and x <= d and x >= 0 and y <= d and y >= 0:\n",
    "    print(0)\n",
    "else:\n",
    "    a = x**2 + y**2\n",
    "    b = (x-d)**2 + y**2\n",
    "    c = (x)**2 + (y-d)**2\n",
    "\n",
    "    if a <= b and a <= c:\n",
    "        print(1)\n",
    "    elif b <= a and b <= c:\n",
    "        print(2)\n",
    "    else:\n",
    "        print(3)"
   ]
  },
  {
   "cell_type": "code",
   "execution_count": null,
   "metadata": {},
   "outputs": [],
   "source": []
  },
  {
   "cell_type": "code",
   "execution_count": 52,
   "metadata": {},
   "outputs": [
    {
     "name": "stdout",
     "output_type": "stream",
     "text": [
      "2\n"
     ]
    }
   ],
   "source": [
    "with open('input.txt', 'r') as f:\n",
    "    r = int(f.readline())\n",
    "    i = int(f.readline())\n",
    "    c = int(f.readline())\n",
    "\n",
    "def foo(r,i,c):\n",
    "    if i == 0 and r != 0:\n",
    "        return 3\n",
    "    if i == 0 and r == 0:\n",
    "        return c\n",
    "    if i == 1:\n",
    "        return c\n",
    "    if i == 4 and r != 0:\n",
    "        return 3    \n",
    "    if i == 4 and r == 0:\n",
    "        return 4\n",
    "    if i == 6:\n",
    "        return 0\n",
    "    if i == 7:\n",
    "        return 1\n",
    "    return i\n",
    "\n",
    "print(foo(r,i,c))"
   ]
  }
 ],
 "metadata": {
  "kernelspec": {
   "display_name": "Python 3",
   "language": "python",
   "name": "python3"
  },
  "language_info": {
   "codemirror_mode": {
    "name": "ipython",
    "version": 3
   },
   "file_extension": ".py",
   "mimetype": "text/x-python",
   "name": "python",
   "nbconvert_exporter": "python",
   "pygments_lexer": "ipython3",
   "version": "3.8.5"
  }
 },
 "nbformat": 4,
 "nbformat_minor": 4
}
