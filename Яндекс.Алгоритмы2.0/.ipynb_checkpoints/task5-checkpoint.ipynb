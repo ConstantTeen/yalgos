{
 "cells": [
  {
   "cell_type": "code",
   "execution_count": null,
   "metadata": {},
   "outputs": [],
   "source": [
    "with open('input.txt') as f:\n",
    "    n = int(f.readline())\n",
    "    arr = list(map(int, f.readline().split()))\n",
    "    prefix = [0]\n",
    "\n",
    "    for i in range(n):\n",
    "        prefix += [prefix[-1] + arr[i]]\n",
    "\n",
    "    max_R = prefix[1]\n",
    "    min_L = 0\n",
    "    best = int(-1e9)\n",
    "    \n",
    "    for R in range(1, n+1):\n",
    "        if prefix[R-1] < min_L:\n",
    "            min_L = prefix[R-1]\n",
    "        if prefix[R] - min_L > best:\n",
    "            best = prefix[R] - min_L\n",
    "    \n",
    "    print(best)"
   ]
  },
  {
   "cell_type": "code",
   "execution_count": null,
   "metadata": {},
   "outputs": [],
   "source": []
  },
  {
   "cell_type": "code",
   "execution_count": 71,
   "metadata": {},
   "outputs": [
    {
     "name": "stdout",
     "output_type": "stream",
     "text": [
      "NO\n"
     ]
    }
   ],
   "source": [
    "with open('input.txt') as f:\n",
    "    string = f.readline()\n",
    "    cnt = 0\n",
    "    flag = True\n",
    "    \n",
    "    for c in string:\n",
    "        if c == '(':\n",
    "            cnt += 1\n",
    "        elif c == ')':\n",
    "            if cnt == 0:\n",
    "                flag = False\n",
    "                break\n",
    "            else:\n",
    "                cnt-=1\n",
    "    \n",
    "    print('YES' if flag and cnt==0 else 'NO')"
   ]
  },
  {
   "cell_type": "code",
   "execution_count": null,
   "metadata": {},
   "outputs": [],
   "source": []
  },
  {
   "cell_type": "code",
   "execution_count": null,
   "metadata": {},
   "outputs": [],
   "source": [
    "with open('input.txt') as f:\n",
    "    n, m = map(int, f.readline().split())\n",
    "    arr_n = [(int(e), i) for i, e in enumerate(f.readline().split())]\n",
    "    arr_m = [(int(e)-1, i) for i, e in enumerate(f.readline().split())]\n",
    "\n",
    "arr_n.sort()\n",
    "arr_m.sort()\n",
    "\n",
    "R = 0\n",
    "pool = dict(zip(range(n+1), [0 for _ in range(n+1)]))\n",
    "cnt = 0\n",
    "\n",
    "for L in range(n):\n",
    "\n",
    "    while R < m and arr_n[L][0] > arr_m[R][0]:\n",
    "        R += 1\n",
    "\n",
    "    if R == m:\n",
    "        break\n",
    "    elif arr_n[L][0] <= arr_m[R][0]:\n",
    "        cnt += 1\n",
    "        pool[arr_n[L][1]] = arr_m[R][1]+1\n",
    "        R += 1\n",
    "\n",
    "print(cnt)\n",
    "print(*[pool[i] for i in range(n)])"
   ]
  },
  {
   "cell_type": "code",
   "execution_count": null,
   "metadata": {},
   "outputs": [],
   "source": []
  },
  {
   "cell_type": "code",
   "execution_count": 267,
   "metadata": {},
   "outputs": [
    {
     "name": "stdout",
     "output_type": "stream",
     "text": [
      "0 1 2\n"
     ]
    }
   ],
   "source": [
    "with open('input.txt') as f:\n",
    "    s = int(f.readline())\n",
    "    n1, a = f.readline().split(maxsplit=1)\n",
    "    n2, b = f.readline().split(maxsplit=1)\n",
    "    n3, c = f.readline().split(maxsplit=1)\n",
    "\n",
    "    n1, n2, n3 = int(n1), int(n2), int(n3)\n",
    "    a = list(map(int, a.split()))\n",
    "    b = list(map(int, b.split()))\n",
    "    c = list(map(int, c.split()))\n",
    "\n",
    "\n",
    "def foo1(a, b, c, s, n1, n2, n3):\n",
    "    b = sorted(zip(b, range(n2)))\n",
    "    c = sorted(zip(c, [-e for e in range(n3)]), reverse=True)\n",
    "\n",
    "    for i in range(n1):\n",
    "        rest = s - a[i]\n",
    "        R = 0\n",
    "        best = [i, n2, 1]\n",
    "\n",
    "        if rest <= 1:\n",
    "            continue\n",
    "\n",
    "        for L in range(n2):\n",
    "\n",
    "            while R < n3 and b[L][0] + c[R][0] > rest:\n",
    "                R += 1\n",
    "\n",
    "            if R == n3:\n",
    "                break\n",
    "            elif b[L][0] + c[R][0] == rest:\n",
    "                if [i, b[L][1], c[R][1]] < best:\n",
    "                    best = [i, b[L][1], -c[R][1]]\n",
    "                R = max(0, R - 1)\n",
    "\n",
    "        if best != [i, n2, 1]:\n",
    "            break\n",
    "\n",
    "    return best if best[1:3] != [n2, 1] else [-1]\n",
    "\n",
    "print(*foo1(a, b, c, s, n1, n2, n3))"
   ]
  }
 ],
 "metadata": {
  "kernelspec": {
   "display_name": "Python 3",
   "language": "python",
   "name": "python3"
  },
  "language_info": {
   "codemirror_mode": {
    "name": "ipython",
    "version": 3
   },
   "file_extension": ".py",
   "mimetype": "text/x-python",
   "name": "python",
   "nbconvert_exporter": "python",
   "pygments_lexer": "ipython3",
   "version": "3.8.5"
  }
 },
 "nbformat": 4,
 "nbformat_minor": 4
}
