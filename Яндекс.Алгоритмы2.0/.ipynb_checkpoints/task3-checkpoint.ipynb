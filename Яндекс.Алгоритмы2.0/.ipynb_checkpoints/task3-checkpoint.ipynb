{
 "cells": [
  {
   "cell_type": "code",
   "execution_count": 7,
   "metadata": {},
   "outputs": [
    {
     "name": "stdout",
     "output_type": "stream",
     "text": [
      "5\n"
     ]
    }
   ],
   "source": [
    "with open('input.txt', 'r') as f:\n",
    "    n = int(f.readline())\n",
    "    row = f.readline().rstrip()\n",
    "    \n",
    "    s_yes = set(range(1,n+1))\n",
    "    s_no = set()\n",
    "    \n",
    "    while row != 'HELP':\n",
    "        arr = map(int, row.split())\n",
    "        ans = f.readline().rstrip()\n",
    "        \n",
    "        if ans == 'YES':\n",
    "            s_yes = s_yes.intersection(set(arr))\n",
    "        elif ans == 'NO':\n",
    "            for el in arr:\n",
    "                s_no.add(el)\n",
    "                \n",
    "        row = f.readline().rstrip()\n",
    "\n",
    "print(*s_yes.difference(s_no))\n"
   ]
  },
  {
   "cell_type": "code",
   "execution_count": null,
   "metadata": {},
   "outputs": [],
   "source": []
  },
  {
   "cell_type": "code",
   "execution_count": 21,
   "metadata": {},
   "outputs": [
    {
     "name": "stdout",
     "output_type": "stream",
     "text": [
      "AAAAAAAAAAAAAB\n",
      "BASD234234\n",
      "ASDBSBF\n",
      "SDASDSD\n",
      "AAAAAA\n",
      "ASDBSBF\n",
      "AAAAAA\n",
      "BABA\n",
      "AB\n",
      "A\n",
      "AAAAAAAAAAAAAAAAAAAA\n"
     ]
    }
   ],
   "source": [
    "def foo(arr, string):\n",
    "    cnt = 0\n",
    "    s = set(string)\n",
    "    \n",
    "    for el in arr:\n",
    "        if len(el.difference(s)) == 0:\n",
    "            cnt+=1\n",
    "    return cnt\n",
    "\n",
    "with open('input.txt', 'r') as f:\n",
    "    m = int(f.readline())\n",
    "    \n",
    "    arrm = []\n",
    "    \n",
    "    for _ in range(m):\n",
    "        arrm += [set(f.readline().rstrip())]\n",
    "        \n",
    "    n = int(f.readline())\n",
    "    d = dict()\n",
    "    arrn = []\n",
    "    \n",
    "    for i in range(n):\n",
    "        string = f.readline().rstrip()\n",
    "        \n",
    "        d[i] = foo(arrm, string)\n",
    "        arrn += [string]\n",
    "#         print(string, d[i])\n",
    "    \n",
    "    max_ = max(d.values())\n",
    "    \n",
    "    for k in d:\n",
    "        if d[k] == max_:\n",
    "            print(arrn[k])"
   ]
  }
 ],
 "metadata": {
  "kernelspec": {
   "display_name": "Python 3",
   "language": "python",
   "name": "python3"
  },
  "language_info": {
   "codemirror_mode": {
    "name": "ipython",
    "version": 3
   },
   "file_extension": ".py",
   "mimetype": "text/x-python",
   "name": "python",
   "nbconvert_exporter": "python",
   "pygments_lexer": "ipython3",
   "version": "3.8.5"
  }
 },
 "nbformat": 4,
 "nbformat_minor": 4
}
