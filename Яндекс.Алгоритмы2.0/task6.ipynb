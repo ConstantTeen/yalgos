{
 "cells": [
  {
   "cell_type": "code",
   "execution_count": 3,
   "metadata": {},
   "outputs": [
    {
     "name": "stdout",
     "output_type": "stream",
     "text": [
      "5 2 2 0\n"
     ]
    }
   ],
   "source": [
    "with open('input.txt') as f:\n",
    "  n = int(f.readline())\n",
    "  arr = list(map(int, f.readline().split()))\n",
    "  k = int(f.readline())\n",
    "  arr.sort()\n",
    "  ans = []\n",
    "  \n",
    "  for _ in range(k):\n",
    "    L,R = map(int, f.readline().split())\n",
    "    \n",
    "    i,j = 0, n-1\n",
    "    \n",
    "    while i < j:\n",
    "      m = (i+j)//2+1\n",
    "      \n",
    "      if arr[m] >= L:\n",
    "        j = m-1\n",
    "      elif arr[m] < L:\n",
    "        i = m\n",
    "        \n",
    "    first = i if arr[i] < L else -1\n",
    "    \n",
    "    i,j = 0, n-1\n",
    "    \n",
    "    while i < j:\n",
    "      m = (i+j)//2\n",
    "      \n",
    "      if arr[m] > R:\n",
    "        j = m\n",
    "      elif arr[m] <= R:\n",
    "        i = m+1\n",
    "        \n",
    "    second = i if arr[i] > R else n\n",
    "    \n",
    "    ans += [second - first - 1]\n",
    "    \n",
    "print(*ans)    "
   ]
  },
  {
   "cell_type": "code",
   "execution_count": null,
   "metadata": {},
   "outputs": [],
   "source": []
  },
  {
   "cell_type": "code",
   "execution_count": 31,
   "metadata": {},
   "outputs": [
    {
     "name": "stdout",
     "output_type": "stream",
     "text": [
      "0.0\n"
     ]
    }
   ],
   "source": [
    "import sys\n",
    "\n",
    "with open('input.txt') as f:\n",
    "    a,b,c,d = map(int, f.readline().split())\n",
    "    a,b,c,d = (a,b,c,d) if a > 0 else (-a,-b,-c,-d)\n",
    "\n",
    "def f(x):\n",
    "    return a*x**3 + b*x**2 + c*x + d\n",
    "\n",
    "eps = 1e-5\n",
    "\n",
    "if d == 0:\n",
    "    L = R = 0\n",
    "elif d > 0:\n",
    "    L,R = -sys.float_info.max**0.3, 0\n",
    "else:\n",
    "    L,R = 0, sys.float_info.max**0.3\n",
    "\n",
    "while R - L > eps:\n",
    "    m = (L+R) / 2\n",
    "\n",
    "    if f(m) > 0:\n",
    "        R = m\n",
    "    elif f(m) < 0:\n",
    "        L = m\n",
    "    else:\n",
    "        L = R = m\n",
    "\n",
    "\n",
    "print((L+R) / 2)"
   ]
  },
  {
   "cell_type": "code",
   "execution_count": null,
   "metadata": {},
   "outputs": [],
   "source": []
  },
  {
   "cell_type": "code",
   "execution_count": 34,
   "metadata": {},
   "outputs": [
    {
     "name": "stdout",
     "output_type": "stream",
     "text": [
      "0 0\n",
      "9 9\n",
      "6 6\n",
      "0 0\n",
      "0 0\n",
      "9 9\n",
      "2 5\n",
      "0 0\n",
      "9 9\n",
      "0 0\n"
     ]
    }
   ],
   "source": [
    "with open('input.txt') as f:\n",
    "    n = int(f.readline())\n",
    "    arr = [-1] + list(map(int, f.readline().split()))\n",
    "    m = int(f.readline())\n",
    "    arr.sort()\n",
    "    \n",
    "    for num in map(int, f.readline().split()):\n",
    "        L, R = 1,n\n",
    "        \n",
    "        while L < R:\n",
    "            m = (L+R)//2\n",
    "            \n",
    "            if arr[m] >= num:\n",
    "                R = m\n",
    "            elif arr[m] < num:\n",
    "                L = m+1\n",
    "        \n",
    "        first = L if arr[L] == num else 0\n",
    "        \n",
    "        L, R = 1,n\n",
    "        \n",
    "        while L < R:\n",
    "            m = (L+R)//2+1\n",
    "            \n",
    "            if arr[m] > num:\n",
    "                R = m-1\n",
    "            elif arr[m] <= num:\n",
    "                L = m\n",
    "                \n",
    "        second = L if arr[L] == num else 0\n",
    "        \n",
    "        print(first, second)"
   ]
  },
  {
   "cell_type": "code",
   "execution_count": null,
   "metadata": {},
   "outputs": [],
   "source": []
  },
  {
   "cell_type": "code",
   "execution_count": 54,
   "metadata": {},
   "outputs": [
    {
     "name": "stdout",
     "output_type": "stream",
     "text": [
      "1\n"
     ]
    }
   ],
   "source": [
    "from math import ceil\n",
    "\n",
    "with open('input.txt') as f:\n",
    "    n, k = map(int, f.readline().split())\n",
    "    arr = list(map(int, f.readline().split()))\n",
    "    arr.sort()\n",
    "\n",
    "L,R = 0, ceil((arr[-1] - arr[0])/k)\n",
    "\n",
    "def foo(l):\n",
    "    cnt = 1\n",
    "    p = arr[0]\n",
    "    \n",
    "    for i in range(n):\n",
    "        if arr[i] > p + l:\n",
    "            p = arr[i]\n",
    "            cnt+=1\n",
    "            \n",
    "    return cnt\n",
    "\n",
    "\n",
    "while L < R:\n",
    "    m = (L+R)//2\n",
    "    \n",
    "    if foo(m) > k:\n",
    "        L = m+1\n",
    "    elif foo(m) <= k:\n",
    "        R = m\n",
    "        \n",
    "print(L)"
   ]
  },
  {
   "cell_type": "code",
   "execution_count": 45,
   "metadata": {},
   "outputs": [],
   "source": []
  },
  {
   "cell_type": "code",
   "execution_count": 61,
   "metadata": {},
   "outputs": [],
   "source": [
    "with open('input.txt') as f:\n",
    "    a,k,b,m,x = map(int, f.readline().split())\n",
    "    \n",
    "L,R = 1, 2*x\n",
    "\n",
    "while L < R:\n",
    "    M = (L+R)//2\n",
    "    \n",
    "    if a*(M - M//k) + b*(M - M//m) >= x:\n",
    "        R = M\n",
    "    elif a*(M - M//k) + b*(M - M//m) < x:\n",
    "        L = M+1\n",
    "        \n",
    "print(L)"
   ]
  },
  {
   "cell_type": "code",
   "execution_count": 63,
   "metadata": {},
   "outputs": [
    {
     "name": "stdout",
     "output_type": "stream",
     "text": [
      "4\n"
     ]
    }
   ],
   "source": []
  },
  {
   "cell_type": "code",
   "execution_count": null,
   "metadata": {},
   "outputs": [],
   "source": []
  }
 ],
 "metadata": {
  "kernelspec": {
   "display_name": "Python 3",
   "language": "python",
   "name": "python3"
  },
  "language_info": {
   "codemirror_mode": {
    "name": "ipython",
    "version": 3
   },
   "file_extension": ".py",
   "mimetype": "text/x-python",
   "name": "python",
   "nbconvert_exporter": "python",
   "pygments_lexer": "ipython3",
   "version": "3.8.5"
  }
 },
 "nbformat": 4,
 "nbformat_minor": 4
}
