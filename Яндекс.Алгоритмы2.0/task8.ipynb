{
 "cells": [
  {
   "cell_type": "code",
   "execution_count": 161,
   "metadata": {},
   "outputs": [
    {
     "name": "stdout",
     "output_type": "stream",
     "text": [
      "DONE\n",
      "DONE\n",
      "ALREADY\n",
      "YES\n",
      "DONE\n",
      "2\n",
      ".3\n",
      "..5\n",
      "NO\n"
     ]
    }
   ],
   "source": [
    "def add(node, el):\n",
    "    if node[0] is None:\n",
    "        node[0] = el\n",
    "        node[1] = [None, None, None]\n",
    "        node[2] = [None, None, None]\n",
    "        return 0\n",
    "    if node[0] == el:\n",
    "        return 1\n",
    "    if el < node[0]:\n",
    "        return add(node[1], el)\n",
    "    return add(node[2], el)\n",
    "\n",
    "def search(node, el):\n",
    "    if node[0] is None:\n",
    "        return 1\n",
    "    if node[0] == el:\n",
    "        return 0\n",
    "    if el < node[0]:\n",
    "        return search(node[1], el)\n",
    "    return search(node[2], el)\n",
    "\n",
    "def printree(node, i=0):\n",
    "    middle, left, right = node\n",
    "    \n",
    "    if middle is None:\n",
    "        return\n",
    "    \n",
    "    printree(left, i+1)\n",
    "    print(''.join(['.' for _ in range(i)] + [str(middle)]))\n",
    "    printree(right, i+1)\n",
    "    \n",
    "\n",
    "tree = [None, None, None]\n",
    "\n",
    "with open('input.txt') as f:\n",
    "    for row in f:\n",
    "        row = row.rstrip()\n",
    "        if row == '': break\n",
    "        \n",
    "        if row == 'PRINTTREE':\n",
    "            printree(tree)\n",
    "        else:\n",
    "            command, value = row.split()\n",
    "            value = int(value)\n",
    "            \n",
    "            if command == 'ADD':\n",
    "                if 0 == add(tree, value):\n",
    "                    print('DONE')\n",
    "                else:\n",
    "                    print('ALREADY')\n",
    "            elif command == 'SEARCH':\n",
    "                if 0 == search(tree, value):\n",
    "                    print('YES')\n",
    "                else:\n",
    "                    print('NO')"
   ]
  },
  {
   "cell_type": "code",
   "execution_count": null,
   "metadata": {},
   "outputs": [],
   "source": []
  },
  {
   "cell_type": "code",
   "execution_count": 8,
   "metadata": {},
   "outputs": [
    {
     "name": "stdout",
     "output_type": "stream",
     "text": [
      "Paul_I\n",
      "Peter_I\n",
      "Anna\n"
     ]
    }
   ],
   "source": [
    "def search(child1, child2):\n",
    "    fathers = []\n",
    "    name = child2\n",
    "    \n",
    "    while name in d:\n",
    "        fathers += [name]\n",
    "        name = d[name]\n",
    "        \n",
    "    name = child1\n",
    "    \n",
    "    while name in d:\n",
    "        if name in fathers:\n",
    "            return name\n",
    "        name = d[name]\n",
    "        \n",
    "    return name\n",
    "\n",
    "with open('input.txt') as f:\n",
    "    n = int(f.readline())\n",
    "    d = dict()\n",
    "    \n",
    "    for _ in range(n-1):\n",
    "        child, father = f.readline().split()\n",
    "        \n",
    "        d[child] = father\n",
    "    \n",
    "    for row in f:\n",
    "        row = row.rstrip()\n",
    "        if row == '': break\n",
    "        \n",
    "        name1, name2 = row.split()\n",
    "        \n",
    "        print(search(name1, name2))\n",
    "    "
   ]
  },
  {
   "cell_type": "code",
   "execution_count": 6,
   "metadata": {},
   "outputs": [],
   "source": []
  },
  {
   "cell_type": "code",
   "execution_count": 49,
   "metadata": {},
   "outputs": [
    {
     "name": "stdout",
     "output_type": "stream",
     "text": [
      "DUDDUU\n",
      "4\n",
      "0\n",
      "100\n",
      "101\n",
      "11\n",
      "DU\n",
      "2\n",
      "0\n",
      "1\n"
     ]
    }
   ],
   "source": [
    "with open('input.txt') as f:\n",
    "    n = int(f.readline())\n",
    "    \n",
    "    for _ in range(n):\n",
    "        string = f.readline().rstrip()\n",
    "        target = ''\n",
    "        cnt = 0\n",
    "        ans = []\n",
    "        \n",
    "        for ch in string:\n",
    "            if ch == 'D':\n",
    "                target += '0'\n",
    "            else:\n",
    "                ans += [target]\n",
    "                \n",
    "                i = -1\n",
    "                while target[i] == '1':\n",
    "                    i-=1\n",
    "                if i < -1:\n",
    "                    target = target[:i+1] \n",
    "        \n",
    "                target = target[:-1] + '1'\n",
    "        ans += [target]\n",
    "        \n",
    "        print(len(ans))\n",
    "        for el in ans:\n",
    "            print(el)"
   ]
  },
  {
   "cell_type": "code",
   "execution_count": null,
   "metadata": {},
   "outputs": [],
   "source": []
  },
  {
   "cell_type": "code",
   "execution_count": 32,
   "metadata": {},
   "outputs": [
    {
     "name": "stdout",
     "output_type": "stream",
     "text": [
      "2500\n",
      "Wall time: 8.99 ms\n"
     ]
    }
   ],
   "source": [
    "with open('input.txt') as f:\n",
    "    n = int(f.readline())\n",
    "    d = dict()\n",
    "    \n",
    "    for _ in range(n-1):\n",
    "        num1, num2 = map(int, f.readline().split())\n",
    "        \n",
    "        if num1 in d:\n",
    "            d[num1].add(num2)\n",
    "        else:\n",
    "            d[num1] = {num2}\n",
    "            \n",
    "        if num2 in d:\n",
    "            d[num2].add(num1)\n",
    "        else:\n",
    "            d[num2] = {num1}\n",
    "            \n",
    "nodes = set(range(1, n+1))\n",
    "s = 0\n",
    "\n",
    "while True:\n",
    "    if len(nodes) == 2:\n",
    "        s += 2\n",
    "        break\n",
    "    elif len(nodes) == 1:\n",
    "        s += 1\n",
    "        break\n",
    "        \n",
    "    points2drop = set()\n",
    "    cnt = 0\n",
    "    \n",
    "    for k in d:\n",
    "        arr = [el for el in d[k] if el in nodes]\n",
    "        if len(arr) == 1:\n",
    "            points2drop.add(k)\n",
    "            cnt += 1\n",
    "    \n",
    "    if cnt == 2:\n",
    "        s+= len(nodes)\n",
    "        break\n",
    "    elif cnt == 1:\n",
    "        s += 1\n",
    "        break\n",
    "    s+= 2\n",
    "    nodes -= points2drop\n",
    "    \n",
    "print(s)"
   ]
  }
 ],
 "metadata": {
  "kernelspec": {
   "display_name": "Python 3",
   "language": "python",
   "name": "python3"
  },
  "language_info": {
   "codemirror_mode": {
    "name": "ipython",
    "version": 3
   },
   "file_extension": ".py",
   "mimetype": "text/x-python",
   "name": "python",
   "nbconvert_exporter": "python",
   "pygments_lexer": "ipython3",
   "version": "3.8.5"
  }
 },
 "nbformat": 4,
 "nbformat_minor": 4
}
