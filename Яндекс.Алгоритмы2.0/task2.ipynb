{
 "cells": [
  {
   "cell_type": "code",
   "execution_count": 5,
   "metadata": {},
   "outputs": [],
   "source": [
    "with open('input.txt', 'r') as f:\n",
    "    n = -1\n",
    "    max_n = n\n",
    "    cnt = 1\n",
    "    \n",
    "    while n != 0:\n",
    "        n = int(f.readline())\n",
    "        if n > max_n:\n",
    "            max_n = n\n",
    "            cnt = 1\n",
    "        elif n == max_n: \n",
    "            cnt+=1\n",
    "print(cnt)"
   ]
  },
  {
   "cell_type": "code",
   "execution_count": null,
   "metadata": {},
   "outputs": [],
   "source": []
  },
  {
   "cell_type": "code",
   "execution_count": 10,
   "metadata": {},
   "outputs": [],
   "source": [
    "with open('input.txt', 'r') as f:\n",
    "    arr = list(map(int, f.readline().split()))\n",
    "\n",
    "max_cnt = 1\n",
    "\n",
    "for i, el in enumerate(arr):\n",
    "    if el == 1:\n",
    "        cnt = 10\n",
    "        \n",
    "        for j in range(10):\n",
    "            if arr[j] == 2 and cnt > abs(j - i):\n",
    "                cnt = abs(j - i)      \n",
    "        if cnt > max_cnt:\n",
    "            max_cnt = cnt\n",
    "            \n",
    "print(max_cnt)\n",
    "\n",
    "                        "
   ]
  },
  {
   "cell_type": "code",
   "execution_count": null,
   "metadata": {},
   "outputs": [],
   "source": []
  },
  {
   "cell_type": "code",
   "execution_count": 15,
   "metadata": {},
   "outputs": [],
   "source": [
    "with open('input.txt', 'r') as f:\n",
    "    string = f.readline()[:-1]\n",
    "n = len(string)\n",
    "max_price = n // 2\n",
    "\n",
    "for i in range(n // 2+1):\n",
    "    if string[n-i-1] == string[i] and n-i-1 != i:\n",
    "        max_price -= 1\n",
    "print(max_price)"
   ]
  },
  {
   "cell_type": "code",
   "execution_count": null,
   "metadata": {},
   "outputs": [],
   "source": []
  },
  {
   "cell_type": "code",
   "execution_count": 27,
   "metadata": {},
   "outputs": [],
   "source": [
    "with open('input.txt', 'r') as f:\n",
    "    l,k = map(int, f.readline().split())\n",
    "    arr = list(map(int, f.readline().split()))\n",
    "    \n",
    "left, right = arr[0], arr[-1]\n",
    "\n",
    "for el in arr:\n",
    "    if 2*el < l and 2*(el+1) > l:\n",
    "        left = right = el\n",
    "        break\n",
    "    elif 2*el < l:\n",
    "        left = el\n",
    "    elif 2*el >= l:\n",
    "        right = el\n",
    "        break\n",
    "        \n",
    "if left == right:\n",
    "    print(left)\n",
    "else:\n",
    "    print(left, right)\n"
   ]
  },
  {
   "cell_type": "code",
   "execution_count": null,
   "metadata": {},
   "outputs": [],
   "source": []
  },
  {
   "cell_type": "code",
   "execution_count": 41,
   "metadata": {},
   "outputs": [
    {
     "name": "stdout",
     "output_type": "stream",
     "text": [
      "1\n"
     ]
    }
   ],
   "source": [
    "with open('input.txt', 'r') as f:\n",
    "    n = int(f.readline())\n",
    "    arr = list(map(int, f.readline().split()))\n",
    "    \n",
    "if n == 1:\n",
    "    print(0)\n",
    "else:\n",
    "    min_s = 0\n",
    "\n",
    "    for i in range(n):\n",
    "        x = min(arr[i], sum([arr[j] for j in range(n) if i != j]))\n",
    "        if min_s < x:\n",
    "            min_s = x\n",
    "\n",
    "    print(min_s)"
   ]
  },
  {
   "cell_type": "code",
   "execution_count": 34,
   "metadata": {},
   "outputs": [],
   "source": [
    "from math import factorial"
   ]
  },
  {
   "cell_type": "code",
   "execution_count": 37,
   "metadata": {},
   "outputs": [
    {
     "data": {
      "text/plain": [
       "158"
      ]
     },
     "execution_count": 37,
     "metadata": {},
     "output_type": "execute_result"
    }
   ],
   "source": [
    "len(str(factorial(100)))"
   ]
  }
 ],
 "metadata": {
  "kernelspec": {
   "display_name": "Python 3",
   "language": "python",
   "name": "python3"
  },
  "language_info": {
   "codemirror_mode": {
    "name": "ipython",
    "version": 3
   },
   "file_extension": ".py",
   "mimetype": "text/x-python",
   "name": "python",
   "nbconvert_exporter": "python",
   "pygments_lexer": "ipython3",
   "version": "3.8.5"
  }
 },
 "nbformat": 4,
 "nbformat_minor": 4
}
