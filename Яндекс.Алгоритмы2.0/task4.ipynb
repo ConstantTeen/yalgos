{
 "cells": [
  {
   "cell_type": "code",
   "execution_count": 11,
   "metadata": {},
   "outputs": [
    {
     "name": "stdout",
     "output_type": "stream",
     "text": [
      "-5 -200000000000\n",
      "0 10000000000000\n",
      "5 -10000\n",
      "10 2000000000000\n"
     ]
    }
   ],
   "source": [
    "from collections import OrderedDict\n",
    "\n",
    "with open('input.txt') as f:\n",
    "    n = int(f.readline())\n",
    "    dick = OrderedDict()\n",
    "    \n",
    "    for _ in range(n):\n",
    "        d, a = map(int, f.readline().split())\n",
    "        \n",
    "        if d not in dick:\n",
    "            dick[d] = a\n",
    "        else:\n",
    "            dick[d] += a\n",
    "            \n",
    "for k in sorted(dick):\n",
    "    print(k, dick[k]) "
   ]
  },
  {
   "cell_type": "code",
   "execution_count": null,
   "metadata": {},
   "outputs": [],
   "source": []
  },
  {
   "cell_type": "code",
   "execution_count": 18,
   "metadata": {},
   "outputs": [
    {
     "name": "stdout",
     "output_type": "stream",
     "text": [
      "bur 1\n"
     ]
    }
   ],
   "source": [
    "from collections import OrderedDict\n",
    "\n",
    "with open('input.txt') as f:\n",
    "    row = f.readline()\n",
    "    d = OrderedDict()\n",
    "    \n",
    "    while len(row) > 0:\n",
    "        a,b = row.split()\n",
    "\n",
    "        if a in d:\n",
    "            d[a] += int(b)\n",
    "        else:\n",
    "            d[a] = int(b)\n",
    "\n",
    "        row = f.readline()\n",
    "for k in sorted(d):\n",
    "    print(k, d[k])"
   ]
  },
  {
   "cell_type": "code",
   "execution_count": null,
   "metadata": {},
   "outputs": [],
   "source": []
  },
  {
   "cell_type": "code",
   "execution_count": 31,
   "metadata": {},
   "outputs": [
    {
     "name": "stdout",
     "output_type": "stream",
     "text": [
      "ai\n"
     ]
    }
   ],
   "source": [
    "with open('input.txt') as f:\n",
    "    row = f.readline()\n",
    "    index2cnt = []\n",
    "    word2index = dict()\n",
    "    super_cnt = 0\n",
    "    last_i = -1\n",
    "    \n",
    "    while len(row) > 0:\n",
    "        ws = row.split()\n",
    "        \n",
    "        for w in ws:\n",
    "            super_cnt+= 1\n",
    "            \n",
    "            if w in word2index:\n",
    "                i = word2index[w]\n",
    "                index2cnt[i] = (index2cnt[i][0]+1, index2cnt[i][1])\n",
    "            else:\n",
    "                last_i += 1\n",
    "                word2index[w] = last_i\n",
    "                index2cnt += [(1, w)]\n",
    "        \n",
    "        row = f.readline()\n",
    "    \n",
    "    for i, t in enumerate(index2cnt):\n",
    "        index2cnt[i] = (super_cnt - index2cnt[i][0], index2cnt[i][1])\n",
    "    \n",
    "    for cnt, w in sorted(index2cnt):\n",
    "        print(w)"
   ]
  },
  {
   "cell_type": "code",
   "execution_count": null,
   "metadata": {},
   "outputs": [],
   "source": []
  },
  {
   "cell_type": "code",
   "execution_count": 13,
   "metadata": {},
   "outputs": [
    {
     "name": "stdout",
     "output_type": "stream",
     "text": [
      "topic 1\n"
     ]
    }
   ],
   "source": [
    "with open('input.txt', encoding='utf-8') as f:\n",
    "    n = int(f.readline())\n",
    "    header2index = dict()\n",
    "    arr = [0 for _ in range(n+1)]\n",
    "    \n",
    "    for i in range(1, n+1):\n",
    "        num = int(f.readline())\n",
    "        \n",
    "        if num == 0:\n",
    "            header = f.readline().rstrip()\n",
    "            body = f.readline().rstrip()\n",
    "            header2index[header] = i\n",
    "            arr[i] = i\n",
    "        else:\n",
    "            body = f.readline().rstrip()\n",
    "            arr[i] = arr[num]\n",
    "    \n",
    "for k in header2index:\n",
    "    i = header2index[k]\n",
    "    header2index[k] = len([el for el in arr if el == i]) - 1\n",
    "\n",
    "max_ = max(header2index.values())\n",
    "\n",
    "for k in header2index:\n",
    "    if header2index[k] == max_:\n",
    "        print(k)\n",
    "        break\n",
    "        "
   ]
  },
  {
   "cell_type": "code",
   "execution_count": null,
   "metadata": {},
   "outputs": [],
   "source": []
  },
  {
   "cell_type": "code",
   "execution_count": 139,
   "metadata": {},
   "outputs": [
    {
     "name": "stdout",
     "output_type": "stream",
     "text": [
      "xab 225\n",
      "abx 225\n"
     ]
    }
   ],
   "source": [
    "from collections import OrderedDict\n",
    "\n",
    "names = []\n",
    "numes = []\n",
    "N = 0\n",
    "n = 0 \n",
    "\n",
    "with open('input.txt') as f:\n",
    "    for row in f:\n",
    "        name, num = ' '.join(row.split()[:-1]), int(row.split()[-1])\n",
    "        N += num\n",
    "        names += [name]\n",
    "        numes += [num]\n",
    "        n+=1\n",
    "        \n",
    "pich = N / 450\n",
    "\n",
    "for i in range(n):\n",
    "    k = numes[i]\n",
    "    name = names[i]\n",
    "    numes[i] = (k - pich*(k // pich), k, k // pich, name)\n",
    "    \n",
    "rest = 450 - sum([el[2] for el in numes])\n",
    "name2num = dict()\n",
    "\n",
    "for t in sorted(numes, reverse=True):\n",
    "    name = t[-1]\n",
    "    \n",
    "    if rest > 0:\n",
    "        name2num[name] = t[2] + 1\n",
    "        rest -= 1\n",
    "    else:\n",
    "        name2num[name] = t[2]\n",
    "        \n",
    "for name in names:\n",
    "    print(name, int(name2num[name]))"
   ]
  },
  {
   "cell_type": "code",
   "execution_count": 140,
   "metadata": {},
   "outputs": [
    {
     "data": {
      "text/plain": [
       "[(0.0, 10000, 225.0, 'xab'), (0.0, 10000, 225.0, 'abx')]"
      ]
     },
     "execution_count": 140,
     "metadata": {},
     "output_type": "execute_result"
    }
   ],
   "source": [
    "numes"
   ]
  }
 ],
 "metadata": {
  "kernelspec": {
   "display_name": "Python 3",
   "language": "python",
   "name": "python3"
  },
  "language_info": {
   "codemirror_mode": {
    "name": "ipython",
    "version": 3
   },
   "file_extension": ".py",
   "mimetype": "text/x-python",
   "name": "python",
   "nbconvert_exporter": "python",
   "pygments_lexer": "ipython3",
   "version": "3.8.5"
  }
 },
 "nbformat": 4,
 "nbformat_minor": 4
}
