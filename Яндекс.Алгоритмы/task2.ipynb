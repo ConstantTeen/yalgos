{
 "cells": [
  {
   "cell_type": "code",
   "execution_count": null,
   "metadata": {},
   "outputs": [],
   "source": [
    "https://contest.yandex.ru/contest/27472/problems/"
   ]
  },
  {
   "cell_type": "code",
   "execution_count": null,
   "metadata": {},
   "outputs": [],
   "source": []
  },
  {
   "cell_type": "code",
   "execution_count": 2,
   "metadata": {},
   "outputs": [
    {
     "name": "stdin",
     "output_type": "stream",
     "text": [
      " 2 2 2\n"
     ]
    },
    {
     "name": "stdout",
     "output_type": "stream",
     "text": [
      "NO\n"
     ]
    }
   ],
   "source": [
    "arr = list(map(float, input().split()))\n",
    "\n",
    "for i,elem in enumerate(arr):\n",
    "    if len(arr)-1 == i:\n",
    "        print('YES')\n",
    "    else:\n",
    "        if elem >= arr[i+1]:\n",
    "            print('NO')\n",
    "            break"
   ]
  },
  {
   "cell_type": "code",
   "execution_count": null,
   "metadata": {},
   "outputs": [],
   "source": []
  },
  {
   "cell_type": "code",
   "execution_count": 10,
   "metadata": {},
   "outputs": [
    {
     "name": "stdin",
     "output_type": "stream",
     "text": [
      " 5\n",
      " 4\n",
      " 3\n",
      " 3\n",
      " 2\n",
      " 1\n",
      " -2e9\n"
     ]
    },
    {
     "name": "stdout",
     "output_type": "stream",
     "text": [
      "WEAKLY DESCENDING\n"
     ]
    }
   ],
   "source": [
    "seq_type = ''\n",
    "prev = float(input())\n",
    "num = 0\n",
    "\n",
    "while True:\n",
    "    num = float(input())\n",
    "\n",
    "    if num == -2e9:\n",
    "        break\n",
    "    \n",
    "    if prev == num:\n",
    "        if seq_type == '':\n",
    "            seq_type = 'CONSTANT'\n",
    "        elif seq_type == 'ASCENDING':\n",
    "            seq_type = 'WEAKLY ASCENDING'\n",
    "        elif seq_type == 'DESCENDING':\n",
    "            seq_type = 'WEAKLY DESCENDING'\n",
    "    elif prev > num:\n",
    "        if seq_type == '':\n",
    "            seq_type = 'DESCENDING'\n",
    "        elif seq_type == 'ASCENDING' or seq_type == 'WEAKLY ASCENDING':\n",
    "            seq_type = 'RANDOM'\n",
    "        elif seq_type == 'CONSTANT':\n",
    "            print('ASD')\n",
    "            seq_type = 'WEAKLY DESCENDING' \n",
    "    elif prev < num:\n",
    "        if seq_type == '':\n",
    "            seq_type = 'ASCENDING'\n",
    "        elif seq_type == 'DESCENDING' or seq_type == 'WEAKLY DESCENDING':\n",
    "            seq_type = 'RANDOM'\n",
    "        elif seq_type == 'CONSTANT':\n",
    "            seq_type = 'WEAKLY ASCENDING' \n",
    "    prev = num\n",
    "\n",
    "print(seq_type)"
   ]
  },
  {
   "cell_type": "code",
   "execution_count": null,
   "metadata": {},
   "outputs": [],
   "source": []
  },
  {
   "cell_type": "code",
   "execution_count": 21,
   "metadata": {},
   "outputs": [
    {
     "name": "stdin",
     "output_type": "stream",
     "text": [
      " 123\n",
      " -10 -5 0 11 13\n",
      " 3\n"
     ]
    },
    {
     "name": "stdout",
     "output_type": "stream",
     "text": [
      "-1\n",
      "0\n",
      "1\n",
      "2\n",
      "2\n",
      "0.0\n"
     ]
    }
   ],
   "source": [
    "_ = int(input())\n",
    "arr = list(map(int, input().split()))\n",
    "x = int(input())\n",
    "\n",
    "d = 1e4\n",
    "best_i = -1\n",
    "\n",
    "for i, el in enumerate(arr):\n",
    "    if abs(x - el) < d:\n",
    "        d = abs(x - el)\n",
    "        best_i = i\n",
    "    if d == 0:\n",
    "        break\n",
    "\n",
    "print(arr[best_i])"
   ]
  },
  {
   "cell_type": "code",
   "execution_count": null,
   "metadata": {},
   "outputs": [],
   "source": []
  },
  {
   "cell_type": "code",
   "execution_count": 7,
   "metadata": {},
   "outputs": [
    {
     "name": "stdin",
     "output_type": "stream",
     "text": [
      " 1 2 3 4 5\n"
     ]
    },
    {
     "name": "stdout",
     "output_type": "stream",
     "text": [
      "0\n"
     ]
    }
   ],
   "source": [
    "arr = list(map(float, input().split()))\n",
    "\n",
    "count = 0\n",
    "\n",
    "if len(arr) >= 3:\n",
    "    left = arr[0]\n",
    "    right = arr[2]\n",
    "\n",
    "    for i, el in enumerate(arr[1:-2]):\n",
    "    #     print(left, el, right)\n",
    "        if el > left and el > right:\n",
    "            count+= 1\n",
    "\n",
    "        left = arr[i+1]\n",
    "        right = arr[i+3]\n",
    "\n",
    "    # print(arr[-3], arr[-2], arr[-1])\n",
    "    if arr[-2] > arr[-1] and arr[-2] > arr[-3]:\n",
    "        count+= 1  \n",
    "    \n",
    "print(count)"
   ]
  },
  {
   "cell_type": "code",
   "execution_count": null,
   "metadata": {},
   "outputs": [],
   "source": []
  },
  {
   "cell_type": "markdown",
   "metadata": {},
   "source": [
    "1. найти 2 наибольших числа > 0 \n",
    "    1.1 может быть только одно\n",
    "    1.2 может быть ни одного\n",
    "2. найти 2 наименьших числа < 0 \n",
    "    2.1 может быть только одно\n",
    "    2.2 может быть ни одного\n",
    "\n",
    "Пусть выполнено 1. и 2.:\n",
    "    * сравним произведения этих чисел. ответ будет максмальным\n",
    "Пусть выполнено 1. и 2.1:\n",
    "    * ответом будет произхведение положитеьных \n",
    "Пусть выполнено 1. и 2.2:\n",
    "    * ответом будет произхведение положитеьных\n",
    "\n",
    "Пусть выполнено 1.1 и 2.:\n",
    "    * ответом будет произхведение отрицательных\n",
    "Пусть выполнено 1.1 и 2.1:\n",
    "    * если есть хоть один ноль, то ответ 0, иначе ответ произведение отрицательного на положительное\n",
    "Пусть выполнено 1.1 и 2.2:\n",
    "    * ответ 0\n",
    "    \n",
    "Пусть выполнено 1.2 и 2.:\n",
    "    * ответом будет произхведение отрицательных\n",
    "Пусть выполнено 1.2 и 2.1:\n",
    "    * ответ 0\n",
    "Пусть выполнено 1.2 и 2.2:\n",
    "    * ответ 0"
   ]
  },
  {
   "cell_type": "code",
   "execution_count": 28,
   "metadata": {},
   "outputs": [
    {
     "name": "stdin",
     "output_type": "stream",
     "text": [
      " -10 -8 0 0 0 10 9\n"
     ]
    },
    {
     "name": "stdout",
     "output_type": "stream",
     "text": [
      "9 10\n"
     ]
    }
   ],
   "source": [
    "arr = list(map(int, input().split()))\n",
    "\n",
    "pos1,pos2,neg1,neg2 = None,None,None,None\n",
    "zero_i = None\n",
    "\n",
    "for i in range(len(arr)):\n",
    "    if arr[i] > 0:\n",
    "        if pos1 is None or arr[i] > arr[pos1]:\n",
    "            pos1 = i\n",
    "    elif arr[i] < 0:\n",
    "        if neg1 is None or arr[i] < arr[neg1]:\n",
    "            neg1 = i\n",
    "    else:\n",
    "        zero_i = i\n",
    "        \n",
    "for i in range(len(arr)):\n",
    "    if i == neg1 or i == pos1:\n",
    "        continue\n",
    "    \n",
    "    if arr[i] > 0:\n",
    "        if pos2 is None or arr[i] > arr[pos2]:\n",
    "            pos2 = i\n",
    "    elif arr[i] < 0:\n",
    "        if neg2 is None or arr[i] < arr[neg2]:\n",
    "            neg2 = i\n",
    "\n",
    "if pos1 is not None and pos2 is not None and neg1 is not None and neg2 is not None:\n",
    "    if arr[pos1]*arr[pos2] > arr[neg1]*arr[neg2]:\n",
    "        print(arr[pos2], arr[pos1])\n",
    "    else:\n",
    "        print(arr[neg1], arr[neg2])\n",
    "elif pos1 is not None and pos2 is not None and neg1 is not None and neg2 is None:\n",
    "    print(arr[pos2], arr[pos1])\n",
    "elif pos1 is not None and pos2 is not None and neg1 is None:\n",
    "    print(arr[pos2], arr[pos1])\n",
    "    \n",
    "elif pos1 is not None and pos2 is None and neg1 is not None and neg2 is not None:\n",
    "    print(arr[neg1], arr[neg2])\n",
    "elif pos1 is not None and pos2 is None and neg1 is not None and neg2 is None:\n",
    "    print(arr[neg1], arr[pos1])\n",
    "elif pos1 is not None and pos2 is None and neg1 is None:\n",
    "    print(0, arr[pos1])\n",
    "    \n",
    "elif pos1 is None and neg1 is not None and neg2 is not None:\n",
    "    print(arr[neg1], arr[neg2])\n",
    "elif pos1 is None and neg1 is not None and neg2 is None:\n",
    "    print(arr[neg1], 0)\n",
    "elif pos1 is None and neg1 is None:\n",
    "    print(0,0)"
   ]
  },
  {
   "cell_type": "code",
   "execution_count": null,
   "metadata": {},
   "outputs": [],
   "source": []
  },
  {
   "cell_type": "code",
   "execution_count": 81,
   "metadata": {},
   "outputs": [
    {
     "name": "stdin",
     "output_type": "stream",
     "text": [
      " 4 4 4\n",
      " 1 3\n",
      " 2 1\n",
      " 4 2\n",
      " 4 4\n"
     ]
    },
    {
     "name": "stdout",
     "output_type": "stream",
     "text": [
      "1 2 * 1\n",
      "* 2 1 1\n",
      "2 2 2 1\n",
      "1 * 2 *\n"
     ]
    }
   ],
   "source": [
    "from math import ceil\n",
    "\n",
    "N, M, K = map(int, input().split())\n",
    "mines = []\n",
    "\n",
    "for _ in range(K):\n",
    "    y,x = map(int, input().split())\n",
    "    mines += [(y,x)]\n",
    "    \n",
    "    \n",
    "def one2two(l):\n",
    "    return ceil(l / M), l % M if l % M != 0 else M\n",
    "def two2one(y,x):\n",
    "    return (y-1)*M + x\n",
    "def get_neighbours(y,x):\n",
    "    if y-1>=1 and y-1<=N-1 and x-1>=1 and x-1<=M-1:\n",
    "        yield two2one(y-1,x-1)\n",
    "    if y-1>=1 and y-1<=N-1 and x>=1 and x<=M:\n",
    "        yield two2one(y-1,x)\n",
    "    if y-1>=1 and y-1<=N-1 and x+1>=2 and x+1<=M:\n",
    "        yield two2one(y-1,x+1)\n",
    "    \n",
    "    if y>=1 and y<=N and x-1>=1 and x-1<=M-1:\n",
    "        yield two2one(y,x-1)\n",
    "    if y>=1 and y<=N and x+1>=2 and x+1<=M:\n",
    "        yield two2one(y,x+1)\n",
    "    \n",
    "    if y+1>=2 and y+1<=N and x-1>=1 and x-1<=M-1:\n",
    "        yield two2one(y+1,x-1)\n",
    "    if y+1>=2 and y+1<=N and x>=1 and x<=M:\n",
    "        yield two2one(y+1,x)\n",
    "    if y+1>=2 and y+1<=N and x+1>=2 and x+1<=M:\n",
    "        yield two2one(y+1,x+1)\n",
    "def prety_print(arr):\n",
    "    for i in range(N):\n",
    "        print(' '.join(arr[i*M:(i+1)*M]))\n",
    "        \n",
    "\n",
    "area = list(['0' for _ in range(N*M)])\n",
    "\n",
    "for y_m, x_m in mines:\n",
    "    i = two2one(y_m, x_m)-1\n",
    "    area[i] = '*'\n",
    "    \n",
    "for i, el in enumerate(area):\n",
    "    l = i + 1\n",
    "    y,x = one2two(l)\n",
    "\n",
    "    if el != '*':\n",
    "        neighbours = get_neighbours(y,x)\n",
    "        count = 0\n",
    "\n",
    "        for neighbour in neighbours:\n",
    "            if neighbour >= 1 and neighbour <= N*M and area[neighbour-1] == '*':\n",
    "                count+=1\n",
    "        area[i] = str(count)\n",
    "        \n",
    "prety_print(area)    "
   ]
  },
  {
   "cell_type": "code",
   "execution_count": null,
   "metadata": {},
   "outputs": [],
   "source": []
  },
  {
   "cell_type": "code",
   "execution_count": 95,
   "metadata": {},
   "outputs": [
    {
     "name": "stdout",
     "output_type": "stream",
     "text": [
      "0\n"
     ]
    }
   ],
   "source": [
    "n = int(input())\n",
    "arr = list(map(int, input().split()))\n",
    "\n",
    "winner_i = arr.index(max(arr))\n",
    "vasyas_i = []\n",
    "vasyas_el = []\n",
    "\n",
    "for i, el in enumerate(arr):\n",
    "    if i > winner_i and i < n-1:\n",
    "        if (el - 5) % 10 == 0 and arr[i+1] < el:\n",
    "            vasyas_i += [i]\n",
    "            vasyas_el += [el]\n",
    "if len(vasyas_i) ==0:\n",
    "    print(0)\n",
    "else:\n",
    "    vasya = max(vasyas_el)\n",
    "    pos = 1 + len([el for el in arr if el > vasya])\n",
    "    print(pos)"
   ]
  },
  {
   "cell_type": "code",
   "execution_count": null,
   "metadata": {},
   "outputs": [],
   "source": []
  },
  {
   "cell_type": "code",
   "execution_count": 169,
   "metadata": {},
   "outputs": [],
   "source": [
    "n = int(input())\n",
    "arr = input().split()\n",
    "\n",
    "def is_sym(left):\n",
    "    for i in range(left, left + (n-left)//2):\n",
    "        if arr[i] != arr[n-i+left-1]:\n",
    "            return False\n",
    "    return True\n",
    "\n",
    "def foo():\n",
    "    res = []\n",
    "\n",
    "    for left in range(n):\n",
    "        if is_sym(left) == True:\n",
    "            res = arr[:left][::-1]\n",
    "            print(len(res))\n",
    "            print(' '.join(res))\n",
    "            return\n",
    "        res += [arr[left]]\n",
    "    print(len(res))\n",
    "    print(' '.join(res))\n",
    "\n",
    "foo()"
   ]
  },
  {
   "cell_type": "code",
   "execution_count": null,
   "metadata": {},
   "outputs": [],
   "source": []
  },
  {
   "cell_type": "code",
   "execution_count": 160,
   "metadata": {},
   "outputs": [
    {
     "name": "stdin",
     "output_type": "stream",
     "text": [
      " -3 -100 -58 -81 -100 -24\n"
     ]
    },
    {
     "name": "stdout",
     "output_type": "stream",
     "text": [
      "-3 -24 -58\n"
     ]
    }
   ],
   "source": [
    "from itertools import combinations\n",
    "\n",
    "arr = list(map(int,input().split()))\n",
    "\n",
    "def find_min_max(exclude_i=[]):\n",
    "    pos_max_i, pos_min_i = None, None\n",
    "    neg_max_i, neg_min_i = None, None\n",
    "\n",
    "    for i,el in enumerate(arr):\n",
    "        if i not in exclude_i:\n",
    "            if el > 0:\n",
    "                if pos_max_i is None or arr[pos_max_i] < arr[i]:\n",
    "                    pos_max_i = i\n",
    "                if pos_min_i is None or arr[pos_min_i] > arr[i]:\n",
    "                    pos_min_i = i\n",
    "            elif el < 0:\n",
    "                if neg_max_i is None or arr[neg_max_i] < arr[i]:\n",
    "                    neg_max_i = i\n",
    "                if neg_min_i is None or arr[neg_min_i] > arr[i]:\n",
    "                    neg_min_i = i\n",
    "                \n",
    "    asd = list({i for i in (pos_max_i, pos_min_i, neg_max_i, neg_min_i) if i is not None})\n",
    "    \n",
    "    return asd\n",
    "\n",
    "exclude_i = []\n",
    "\n",
    "for _ in range(3):\n",
    "    exclude_i += find_min_max(exclude_i)\n",
    "\n",
    "exclude = [arr[i] for i in exclude_i] + [0 for el in arr if el == 0][0:3]\n",
    "\n",
    "max_prod = None\n",
    "max_c = ()\n",
    "\n",
    "for c in combinations(exclude, 3):\n",
    "    if max_prod is None or max_prod < c[0]*c[1]*c[2]:\n",
    "        max_prod = c[0]*c[1]*c[2]\n",
    "        max_c = c\n",
    "print(max_c[0],max_c[1],max_c[2])"
   ]
  },
  {
   "cell_type": "code",
   "execution_count": null,
   "metadata": {},
   "outputs": [],
   "source": []
  },
  {
   "cell_type": "code",
   "execution_count": 245,
   "metadata": {},
   "outputs": [
    {
     "name": "stdin",
     "output_type": "stream",
     "text": [
      " 6\n",
      " 1309\n",
      " 2968 further\n"
     ]
    },
    {
     "name": "stdout",
     "output_type": "stream",
     "text": [
      "30 4000.0 2968.0\n"
     ]
    },
    {
     "name": "stdin",
     "output_type": "stream",
     "text": [
      " 2968 closer\n"
     ]
    },
    {
     "name": "stdout",
     "output_type": "stream",
     "text": [
      "30 2138.5 2968.0\n"
     ]
    },
    {
     "name": "stdin",
     "output_type": "stream",
     "text": [
      " 2120 closer\n"
     ]
    },
    {
     "name": "stdout",
     "output_type": "stream",
     "text": [
      "2138.5 2138.5 2120.0\n"
     ]
    },
    {
     "name": "stdin",
     "output_type": "stream",
     "text": [
      " 139 closer\n"
     ]
    },
    {
     "name": "stdout",
     "output_type": "stream",
     "text": [
      "2138.5 2138.5 139.0\n"
     ]
    },
    {
     "name": "stdin",
     "output_type": "stream",
     "text": [
      " 2947 further\n"
     ]
    },
    {
     "name": "stdout",
     "output_type": "stream",
     "text": [
      "2138.5 2138.5 2947.0\n",
      "2138.5 2138.5\n"
     ]
    }
   ],
   "source": [
    "n = int(input())\n",
    "prev_f = float(input())\n",
    "left, right = 30, 4e3\n",
    "\n",
    "for _ in range(n-1):\n",
    "    f, word = input().split()\n",
    "    f = float(f)\n",
    "\n",
    "    if word == 'closer':\n",
    "        if prev_f < f:\n",
    "            left = max(left,min(right,(f + prev_f)/2))\n",
    "        elif prev_f == f:\n",
    "                pass\n",
    "        else:\n",
    "            right = min(right,max(left,(f + prev_f)/2))\n",
    "    else:\n",
    "        if prev_f < f:\n",
    "            right = max(left,min(right,(f + prev_f)/2))\n",
    "        elif prev_f == f:\n",
    "                pass\n",
    "        else:\n",
    "            left = min(right,max(left,(f + prev_f)/2))\n",
    "    prev_f = f\n",
    "            \n",
    "print(left,right)"
   ]
  }
 ],
 "metadata": {
  "kernelspec": {
   "display_name": "Python 3",
   "language": "python",
   "name": "python3"
  },
  "language_info": {
   "codemirror_mode": {
    "name": "ipython",
    "version": 3
   },
   "file_extension": ".py",
   "mimetype": "text/x-python",
   "name": "python",
   "nbconvert_exporter": "python",
   "pygments_lexer": "ipython3",
   "version": "3.8.5"
  }
 },
 "nbformat": 4,
 "nbformat_minor": 4
}
