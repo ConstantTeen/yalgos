{
 "cells": [
  {
   "cell_type": "code",
   "execution_count": 108,
   "metadata": {},
   "outputs": [
    {
     "name": "stdout",
     "output_type": "stream",
     "text": [
      "1\n"
     ]
    }
   ],
   "source": [
    "def prefix(arr, n):\n",
    "    res = [0]\n",
    "    \n",
    "    for i,el in enumerate(arr):\n",
    "        res += [el + res[i]]\n",
    "    \n",
    "    return res\n",
    "\n",
    "with open('input.txt', 'r') as f:\n",
    "    N, K = map(int, f.readline().split())\n",
    "    arr = map(int, f.readline().split())\n",
    "    \n",
    "    pref = prefix(arr,N)\n",
    "    R = 1\n",
    "    cnt = 0\n",
    "    \n",
    "    for L in range(N):\n",
    "        while R <= N:        \n",
    "            if pref[R] - pref[L] == K:\n",
    "                cnt += 1\n",
    "            elif pref[R] - pref[L] > K:\n",
    "                break\n",
    "            R += 1\n",
    "        R = max(L+2, R - 1) \n",
    "    \n",
    "    print(cnt)"
   ]
  },
  {
   "cell_type": "code",
   "execution_count": null,
   "metadata": {},
   "outputs": [],
   "source": []
  },
  {
   "cell_type": "code",
   "execution_count": 109,
   "metadata": {},
   "outputs": [
    {
     "name": "stdout",
     "output_type": "stream",
     "text": [
      "2\n"
     ]
    }
   ],
   "source": [
    "with open('input.txt', 'r') as f:\n",
    "    n,r = map(int, f.readline().split())\n",
    "    arr = list(map(int, f.readline().split()))\n",
    "    \n",
    "R = 1\n",
    "cnt = 0\n",
    "\n",
    "for L in range(n):\n",
    "    while R < n:\n",
    "        if arr[R] - arr[L] > r:\n",
    "            cnt += n - R\n",
    "            break\n",
    "        R+=1\n",
    "    R = max(L + 1, R - 1)\n",
    "\n",
    "print(cnt)   "
   ]
  },
  {
   "cell_type": "code",
   "execution_count": 3,
   "metadata": {},
   "outputs": [],
   "source": []
  },
  {
   "cell_type": "code",
   "execution_count": 50,
   "metadata": {},
   "outputs": [
    {
     "name": "stdout",
     "output_type": "stream",
     "text": [
      "2 4\n"
     ]
    }
   ],
   "source": [
    "with open('input.txt', 'r') as f:\n",
    "    N, K = map(int, f.readline().split())\n",
    "    arr = list(map(int, f.readline().split()))\n",
    "    \n",
    "cnts = [0 for _ in range(K+1)]\n",
    "best_d = N\n",
    "best_L, best_R = 0,N\n",
    "R = 0\n",
    "zero_cnt = K\n",
    "\n",
    "for L in range(N-K+1):\n",
    "    \n",
    "    while R < N and zero_cnt > 0:\n",
    "        if cnts[arr[R]] == 0:\n",
    "            zero_cnt -= 1\n",
    "        \n",
    "        cnts[arr[R]] += 1\n",
    "        R += 1\n",
    "    \n",
    "    if zero_cnt > 0:\n",
    "        break\n",
    "\n",
    "    if best_d > R-L:\n",
    "        best_d = R-L\n",
    "        best_L, best_R = L,R\n",
    "    \n",
    "    cnts[arr[L]] -= 1\n",
    "    \n",
    "    if cnts[arr[L]] == 0:\n",
    "        zero_cnt += 1\n",
    "    \n",
    "print(best_L+1, best_R)"
   ]
  },
  {
   "cell_type": "code",
   "execution_count": null,
   "metadata": {},
   "outputs": [],
   "source": []
  },
  {
   "cell_type": "code",
   "execution_count": 96,
   "metadata": {},
   "outputs": [
    {
     "name": "stdout",
     "output_type": "stream",
     "text": [
      "1000\n"
     ]
    }
   ],
   "source": [
    "def arr2cntdict(arr):\n",
    "    d = dict()\n",
    "    for el in arr:\n",
    "        if el in d.keys():\n",
    "            d[el] += 1\n",
    "        else:\n",
    "            d[el] = 1\n",
    "    return d\n",
    "\n",
    "with open('input.txt', 'r') as f:\n",
    "    n = int(f.readline().split()[0])\n",
    "    arr = map(int, f.readline().split())\n",
    "    m = int(f.readline().split()[0])\n",
    "    \n",
    "    cnts = arr2cntdict(arr)\n",
    "    ind2power = sorted(cnts)\n",
    "    ind2price = [1001 for _ in cnts]\n",
    "    \n",
    "    for _ in range(m):\n",
    "        power, price = map(int, f.readline().split())\n",
    "        \n",
    "        for i, pr in enumerate(ind2price):\n",
    "            if pr > price and ind2power[i] <= power:\n",
    "                ind2price[i] = price\n",
    "            elif ind2power[i] > power:\n",
    "                break\n",
    "        \n",
    "    res = 0\n",
    "    \n",
    "    for i, price in enumerate(ind2price):\n",
    "        power = ind2power[i]\n",
    "        res += cnts[power]*price\n",
    "    \n",
    "    print(res)"
   ]
  },
  {
   "cell_type": "code",
   "execution_count": null,
   "metadata": {},
   "outputs": [],
   "source": []
  },
  {
   "cell_type": "code",
   "execution_count": 195,
   "metadata": {},
   "outputs": [
    {
     "name": "stdout",
     "output_type": "stream",
     "text": [
      "1 1\n"
     ]
    }
   ],
   "source": [
    "with open('input.txt', 'r') as f:\n",
    "    N = int(f.readline().split()[0])\n",
    "    arr1 = list(map(int, f.readline().split()))\n",
    "    M = int(f.readline().split()[0])\n",
    "    arr2 = list(map(int, f.readline().split()))\n",
    "    \n",
    "R = 0\n",
    "global_delta = abs(arr1[0] - arr2[0])\n",
    "a,b = arr1[0], arr2[0]\n",
    "\n",
    "for L in range(N):\n",
    "    delta = abs(arr1[L] - arr2[R])\n",
    "    i = R\n",
    "\n",
    "    for i in range(R+1, M):\n",
    "        if abs(arr1[L] - arr2[i]) >= delta:\n",
    "            i-=1\n",
    "            break\n",
    "\n",
    "        delta = abs(arr1[L] - arr2[i])\n",
    "\n",
    "    if global_delta > delta:\n",
    "        global_delta = delta\n",
    "        a,b = arr1[L], arr2[i]\n",
    "\n",
    "    R = i\n",
    "\n",
    "print(a,b)"
   ]
  },
  {
   "cell_type": "code",
   "execution_count": null,
   "metadata": {},
   "outputs": [],
   "source": []
  },
  {
   "cell_type": "code",
   "execution_count": 2,
   "metadata": {},
   "outputs": [
    {
     "name": "stdout",
     "output_type": "stream",
     "text": [
      "2 1\n"
     ]
    }
   ],
   "source": [
    "with open('input.txt', 'r') as f:\n",
    "    n, k = map(int, f.readline().split())\n",
    "    string = f.readline()[:-1]\n",
    "    \n",
    "def foo2(string,k):\n",
    "    n = len(string)\n",
    "    \n",
    "    keys = [chr(i) for i in range(ord('a'),ord('z')+1)]\n",
    "    values = [0 for _ in range(26)]\n",
    "\n",
    "    d = dict(zip(keys, values))\n",
    "\n",
    "    R = 1\n",
    "    index = 0\n",
    "    length = 1\n",
    "    d[string[0]] += 1\n",
    "\n",
    "    for L in range(n):\n",
    "        if R == n:\n",
    "            index = L\n",
    "            length = R - L\n",
    "            break\n",
    "\n",
    "        for i in range(R,n):\n",
    "            d[string[i]] += 1\n",
    "\n",
    "            if d[string[i]] > k:\n",
    "                d[string[i]] -= 1\n",
    "                i-=1\n",
    "                break\n",
    "\n",
    "        if i == n-1:\n",
    "            if length < n-L:\n",
    "                length = n-L\n",
    "                index = L\n",
    "            break\n",
    "        else:\n",
    "            R = i+1\n",
    "            if length < R - L:\n",
    "                length = R - L\n",
    "                index = L\n",
    "            d[string[L]] -= 1\n",
    "    return (length, index+1)\n",
    "\n",
    "print(*foo2(string,k))"
   ]
  },
  {
   "cell_type": "code",
   "execution_count": null,
   "metadata": {},
   "outputs": [],
   "source": []
  },
  {
   "cell_type": "code",
   "execution_count": 4,
   "metadata": {},
   "outputs": [
    {
     "name": "stdout",
     "output_type": "stream",
     "text": [
      "0\n",
      "5\n",
      "4\n"
     ]
    }
   ],
   "source": [
    "with open('input.txt', 'r') as fd:\n",
    "    N = int(fd.readline()) # 1 ≤ N ≤ 30 000\n",
    "    prefix_up = [0]\n",
    "    prefix_down = [0]\n",
    "\n",
    "    prev_x, prev_y = map(int, fd.readline().split()) # 1 ≤ xi, yi ≤ 30 000\n",
    "    \n",
    "    for i in range(N-1):\n",
    "        x,y = map(int, fd.readline().split())\n",
    "        \n",
    "        if y >= prev_y:\n",
    "            prefix_up += [y - prev_y + prefix_up[i]]\n",
    "            prefix_down += [prefix_down[i]]\n",
    "        else:\n",
    "            prefix_up += [prefix_up[i]]\n",
    "            prefix_down += [prev_y - y + prefix_down[i]]\n",
    "        \n",
    "        prev_y = y\n",
    "        \n",
    "    M = int(fd.readline()) # 1 ≤ M ≤ 30 000\n",
    "    \n",
    "    for _ in range(M):\n",
    "        s,f = map(int, fd.readline().split()) # 1 ≤ si ≤ N, 1 ≤ fi ≤ N\n",
    "        \n",
    "        if s >= f:\n",
    "            print(prefix_down[s-1] - prefix_down[f-1] )\n",
    "        else:\n",
    "            print(prefix_up[f-1] - prefix_up[s-1])"
   ]
  },
  {
   "cell_type": "code",
   "execution_count": null,
   "metadata": {},
   "outputs": [],
   "source": []
  },
  {
   "cell_type": "code",
   "execution_count": 10,
   "metadata": {},
   "outputs": [
    {
     "name": "stdout",
     "output_type": "stream",
     "text": [
      "9\n"
     ]
    }
   ],
   "source": [
    "with open('input.txt', 'r') as f:\n",
    "    n, k = map(int, f.readline().split())\n",
    "    arr = list(map(int, f.readline().split()))\n",
    "\n",
    "def foo2(arr, n, k):\n",
    "    cnt = 0\n",
    "    R = 0\n",
    "\n",
    "    arr.sort()\n",
    "    d = {arr[0]: 0}\n",
    "    curr_el = arr[0]\n",
    "\n",
    "    for el in arr:\n",
    "        if curr_el == el:\n",
    "            d[curr_el] += 1\n",
    "        else:\n",
    "            d[el] = 1\n",
    "            curr_el = el\n",
    "    \n",
    "    keys = list(d.keys())\n",
    "    keys_len = len(keys)\n",
    "    cnt2 = 0\n",
    "    \n",
    "    for L in range(keys_len):\n",
    "        while R < keys_len and keys[R] <= k*keys[L]:\n",
    "            if d[keys[R]] >= 2:\n",
    "                cnt2 += 1\n",
    "            R+=1\n",
    "        \n",
    "        if d[keys[L]] >= 2:\n",
    "            cnt+= 3*(R-L-1)\n",
    "        if d[keys[L]] >= 3:\n",
    "            cnt+= 1\n",
    "            \n",
    "        cnt += 3*(R-L-1)*(R-L-2)  \n",
    "        \n",
    "        if d[keys[L]] >= 2:\n",
    "            cnt2 -= 1\n",
    "            \n",
    "        cnt += cnt2*3\n",
    "        \n",
    "    return cnt\n",
    "\n",
    "print(foo2(arr, n, k))"
   ]
  },
  {
   "cell_type": "code",
   "execution_count": 11,
   "metadata": {},
   "outputs": [],
   "source": []
  },
  {
   "cell_type": "code",
   "execution_count": 3,
   "metadata": {},
   "outputs": [
    {
     "name": "stdout",
     "output_type": "stream",
     "text": [
      "378\n"
     ]
    }
   ],
   "source": [
    "with open('input.txt', 'r') as f:\n",
    "    k = int(f.readline())\n",
    "    string = f.readline()[:-1]\n",
    "    n = len(string)\n",
    "\n",
    "cnt = 0\n",
    "asd = 0\n",
    "\n",
    "for i in range(k, n):\n",
    "    if string[i-k] == string[i]:\n",
    "        asd+=1\n",
    "    else:\n",
    "        cnt+= int(asd*(asd+1)/2)\n",
    "        asd = 0\n",
    "cnt+=int(asd*(asd+1)/2)\n",
    "\n",
    "print(cnt)"
   ]
  },
  {
   "cell_type": "code",
   "execution_count": null,
   "metadata": {},
   "outputs": [],
   "source": []
  },
  {
   "cell_type": "code",
   "execution_count": 12,
   "metadata": {},
   "outputs": [
    {
     "name": "stdout",
     "output_type": "stream",
     "text": [
      "4\n"
     ]
    }
   ],
   "source": [
    "with open('input.txt', 'r') as f:\n",
    "    n = int(f.readline())\n",
    "    points = []\n",
    "    \n",
    "    for _ in range(n):\n",
    "        x,y = map(int, f.readline().split())\n",
    "        points += [(x,y)]\n",
    "\n",
    "cnt = 0\n",
    "\n",
    "for x,y in points:\n",
    "    dist = []\n",
    "    coords = set()\n",
    "    corrupted = 0\n",
    "    \n",
    "    for x_new, y_new in points:\n",
    "        x_new, y_new = x_new - x, y_new - y\n",
    "        d = x_new**2 + y_new**2\n",
    "        \n",
    "        if d != 0:\n",
    "            dist += [d]\n",
    "            \n",
    "        if (-x_new, -y_new) in coords:\n",
    "            corrupted += 1\n",
    "        else:\n",
    "            coords.add((x_new, y_new))\n",
    "        \n",
    "    dist.sort()\n",
    "    \n",
    "    curr_el = dist[0]\n",
    "    curr_num = 0\n",
    "    \n",
    "    for i in range(n-1):\n",
    "        if dist[i] == curr_el:\n",
    "            curr_num+=1\n",
    "        else:\n",
    "            cnt+= int(curr_num*(curr_num-1)/2)\n",
    "            curr_el = dist[i]\n",
    "            curr_num = 1\n",
    "    cnt+= int(curr_num*(curr_num-1)/2)\n",
    "    \n",
    "    cnt-= corrupted\n",
    "\n",
    "print(cnt)"
   ]
  }
 ],
 "metadata": {
  "kernelspec": {
   "display_name": "Python 3",
   "language": "python",
   "name": "python3"
  },
  "language_info": {
   "codemirror_mode": {
    "name": "ipython",
    "version": 3
   },
   "file_extension": ".py",
   "mimetype": "text/x-python",
   "name": "python",
   "nbconvert_exporter": "python",
   "pygments_lexer": "ipython3",
   "version": "3.8.5"
  }
 },
 "nbformat": 4,
 "nbformat_minor": 4
}
