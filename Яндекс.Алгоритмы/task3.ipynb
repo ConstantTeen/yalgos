{
 "cells": [
  {
   "cell_type": "code",
   "execution_count": 21,
   "metadata": {},
   "outputs": [
    {
     "name": "stdin",
     "output_type": "stream",
     "text": [
      " 1 2 3 4\n",
      " 3 2\n"
     ]
    },
    {
     "name": "stdout",
     "output_type": "stream",
     "text": [
      "2 3\n"
     ]
    }
   ],
   "source": [
    "arr1 = set(input().split())\n",
    "arr2 = set(input().split())\n",
    "\n",
    "print( *sorted(int(el) for el in arr1 if el in arr2 ) )"
   ]
  },
  {
   "cell_type": "code",
   "execution_count": 18,
   "metadata": {},
   "outputs": [],
   "source": []
  },
  {
   "cell_type": "code",
   "execution_count": 17,
   "metadata": {},
   "outputs": [
    {
     "name": "stdin",
     "output_type": "stream",
     "text": [
      " 0 0\n"
     ]
    },
    {
     "name": "stdout",
     "output_type": "stream",
     "text": [
      "0\n",
      "\n",
      "0\n",
      "\n",
      "0\n",
      "\n"
     ]
    }
   ],
   "source": [
    "A, B = map(int, input().split())\n",
    "\n",
    "set_a = set()\n",
    "set_b = set()\n",
    "\n",
    "for _ in range(A):\n",
    "    num = int(input())\n",
    "    set_a.add(num)\n",
    "\n",
    "for _ in range(B):\n",
    "    num = int(input())\n",
    "    set_b.add(num)\n",
    "\n",
    "intersect = [el for el in set_a if el in set_b]\n",
    "only_a = [el for el in set_a if el not in set_b]\n",
    "only_b = [el for el in set_b if el not in set_a]\n",
    "\n",
    "print(len(intersect))\n",
    "print(*sorted(intersect))\n",
    "print(len(only_a))\n",
    "print(*sorted(only_a))\n",
    "print(len(only_b))\n",
    "print(*sorted(only_b))"
   ]
  },
  {
   "cell_type": "code",
   "execution_count": null,
   "metadata": {},
   "outputs": [],
   "source": []
  },
  {
   "cell_type": "code",
   "execution_count": 40,
   "metadata": {},
   "outputs": [
    {
     "name": "stdout",
     "output_type": "stream",
     "text": [
      "0\n"
     ]
    }
   ],
   "source": [
    "import sys\n",
    "\n",
    "word_set = set()\n",
    "\n",
    "with sys.stdin as f:\n",
    "    while True:\n",
    "        line = f.readline()\n",
    "        \n",
    "        if line == '':\n",
    "            break\n",
    "        \n",
    "        words = line.split()\n",
    "        [word_set.add(w) for w in words]\n",
    "\n",
    "print(len(word_set))"
   ]
  },
  {
   "cell_type": "code",
   "execution_count": null,
   "metadata": {},
   "outputs": [],
   "source": []
  },
  {
   "cell_type": "code",
   "execution_count": 58,
   "metadata": {},
   "outputs": [
    {
     "name": "stdin",
     "output_type": "stream",
     "text": [
      " 1 2 3\n",
      " 124312\n"
     ]
    },
    {
     "name": "stdout",
     "output_type": "stream",
     "text": [
      "1\n"
     ]
    }
   ],
   "source": [
    "x,y,z = input().split()\n",
    "num_set = set(input())\n",
    "print(len([el for el in num_set if el not in (x,y,z)]))"
   ]
  },
  {
   "cell_type": "code",
   "execution_count": null,
   "metadata": {},
   "outputs": [],
   "source": []
  },
  {
   "cell_type": "code",
   "execution_count": 84,
   "metadata": {},
   "outputs": [
    {
     "name": "stdin",
     "output_type": "stream",
     "text": [
      " AAAAAAAAAABBBBBBBBBBABABABABABABABABABABABABABABABABABABABABABABABABABABABABABABABABABABABABABABABABABABABABABABABABABABABABABABABABABABABABABABABABABABABABABABABABABABABABABABABABABABABABABABABABABABABABABABABABABABABABAAAAAAAAAAAAAAAAAAAAAAAAAAAAAAAAAAAAAAAAAAAAAAAAAAAAAAAAAAAAAAAAAAAAAAAAAAAAAAAAAAAAAAAAAAAAAAAAAAAAAAAAAAAAAAAAAAAAAAAAAAAAAAAAAAAAAAAAAAAAAAAAAAAAAAAAAAAAAAAAAAAAAAAAAAAAAAAAAAAAAAAAAAAAAAAAAAAAAAAAAAAAAAAAAAAAAAAAAAAAAAAAAAAAAAAAAAAAAAAAAAAAAAAAAAAAAAAAAAAAAAAAAAAAAAAAAAAAAAAAAAAAAAAAAAAAAAAAAAAAAAAAAAAAAAAAAAAAAAAAAAAAAAAAAAAAAAAAAAAAAAAAAAAAAAAAAAAAAAAAAAAAAAAAAAAAAAAAAAAAAAAAAAAAAAAAAAAAAAAAAAAAAAAAAAAAAAAAAAAAAAAAAAAAAAAAAAAAAAAAAAAAAAAAAAAAAAAAAAAAAAAAAAAAAAAAAAAAAAAAAAAAAAAAAAAAAAAAAAAA\n",
      " AAAAAAAAAABBBBBBBBBBABABABABABABABABABABABABABABABABABABABABABABABABABABABABABABABABABABABABABABABABABABABABABABABABABABABABABABABABABABABABABABABABABABABABABABABABABABABABABABABABABABABABABABABABABABABABABABABABABABABABAAAAAAAAAAAAAAAAAAAAAAAAAAAAAAAAAAAAAAAAAAAAAAAAAAAAAAAAAAAAAAAAAAAAAAAAAAAAAAAAAAAAAAAAAAAAAAAAAAAAAAAAAAAAAAAAAAAAAAAAAAAAAAAAAAAAAAAAAAAAAAAAAAAAAAAAAAAAAAAAAAAAAAAAAAAAAAAAAAAAAAAAAAAAAAAAAAAAAAAAAAAAAAAAAAAAAAAAAAAAAAAAAAAAAAAAAAAAAAAAAAAAAAAAAAAAAAAAAAAAAAAAAAAAAAAAAAAAAAAAAAAAAAAAAAAAAAAAAAAAAAAAAAAAAAAAAAAAAAAAAAAAAAAAAAAAAAAAAAAAAAAAAAAAAAAAAAAAAAAAAAAAAAAAAAAAAAAAAAAAAAAAAAAAAAAAAAAAAAAAAAAAAAAAAAAAAAAAAAAAAAAAAAAAAAAAAAAAAAAAAAAAAAAAAAAAAAAAAAAAAAAAAAAAAAAAAAAAAAAAAAAAAAAAAAAAAAAAAAAA\n"
     ]
    },
    {
     "name": "stdout",
     "output_type": "stream",
     "text": [
      "719\n"
     ]
    }
   ],
   "source": [
    "gen1 = input()\n",
    "gen2 = input()\n",
    "\n",
    "gen1 = [gen1[i:i+2] for i in range(len(gen1)-1)]\n",
    "gen2 = [gen2[i:i+2] for i in range(len(gen2)-1)]\n",
    "\n",
    "gen_set = set(gen2)\n",
    "\n",
    "print(len([el for el in gen1 if el in gen_set]))"
   ]
  },
  {
   "cell_type": "code",
   "execution_count": 68,
   "metadata": {},
   "outputs": [],
   "source": []
  },
  {
   "cell_type": "code",
   "execution_count": 89,
   "metadata": {},
   "outputs": [
    {
     "name": "stdin",
     "output_type": "stream",
     "text": [
      " 10\n",
      " 9 1\n",
      " 8 1\n",
      " 7 2\n",
      " 6 2\n",
      " 5 3\n",
      " 4 4\n",
      " 3 6\n",
      " 2 7\n",
      " 1 9\n",
      " 0 8\n"
     ]
    },
    {
     "name": "stdout",
     "output_type": "stream",
     "text": [
      "{8, 9, 3, 4}\n"
     ]
    }
   ],
   "source": [
    "N = int(input())\n",
    "true_set = set()\n",
    "\n",
    "for _ in range(N):\n",
    "    a,b = map(int,input().split())\n",
    "    \n",
    "    if a >= N or a+b+1 != N or a < 0 or b < 0 or b >= N:\n",
    "        continue\n",
    "    \n",
    "    true_set.add(a+1)\n",
    "    \n",
    "print(len(true_set))"
   ]
  },
  {
   "cell_type": "code",
   "execution_count": null,
   "metadata": {},
   "outputs": [],
   "source": []
  },
  {
   "cell_type": "code",
   "execution_count": 91,
   "metadata": {},
   "outputs": [
    {
     "name": "stdin",
     "output_type": "stream",
     "text": [
      " 6\n",
      " 1 1\n",
      " 2 1\n",
      " 2 2\n",
      " 3 1\n",
      " 3 2\n",
      " 3 3\n"
     ]
    },
    {
     "name": "stdout",
     "output_type": "stream",
     "text": [
      "3\n"
     ]
    }
   ],
   "source": [
    "N = int(input())\n",
    "shot_set = set()\n",
    "\n",
    "for _ in range(N):\n",
    "    x,y = input().split()\n",
    "    shot_set.add(x)\n",
    "    \n",
    "print(len(shot_set))"
   ]
  },
  {
   "cell_type": "code",
   "execution_count": null,
   "metadata": {},
   "outputs": [],
   "source": []
  },
  {
   "cell_type": "code",
   "execution_count": 115,
   "metadata": {},
   "outputs": [
    {
     "name": "stdin",
     "output_type": "stream",
     "text": [
      " 2\n",
      " 2\n",
      " asd\n",
      " qwe\n",
      " 1\n",
      " asd\n"
     ]
    },
    {
     "name": "stdout",
     "output_type": "stream",
     "text": [
      "1\n",
      "asd\n",
      "2\n",
      "asd\n",
      "qwe\n"
     ]
    }
   ],
   "source": [
    "N = int(input())\n",
    "school_dict = dict()\n",
    "\n",
    "for _ in range(N):\n",
    "    num = int(input())\n",
    "    \n",
    "    for _ in range(num):\n",
    "        lang = input()\n",
    "        if lang in school_dict.keys():\n",
    "            school_dict[lang] += 1\n",
    "        else:\n",
    "            school_dict[lang] = 1\n",
    "    \n",
    "intersect = [l for l in school_dict.keys() if school_dict[l] == N]\n",
    "all_lang = school_dict.keys()\n",
    "\n",
    "print(len(intersect))\n",
    "print('\\n'.join(intersect))\n",
    "\n",
    "print(len(all_lang))\n",
    "print('\\n'.join(all_lang))"
   ]
  },
  {
   "cell_type": "code",
   "execution_count": null,
   "metadata": {},
   "outputs": [],
   "source": []
  },
  {
   "cell_type": "code",
   "execution_count": 169,
   "metadata": {},
   "outputs": [
    {
     "name": "stdout",
     "output_type": "stream",
     "text": [
      "5\n",
      "0 -1\n",
      "-1 0\n",
      "0 0\n",
      "1 0\n",
      "0 1\n"
     ]
    }
   ],
   "source": [
    "def exists_path(x0,y0, start_points):\n",
    "    for x,y in start_points:\n",
    "        if abs(x-x0) + abs(y-y0) <= t:\n",
    "            return True\n",
    "    return False\n",
    "\n",
    "def make_a_circle(x0,y0, r):\n",
    "    circle = []\n",
    "    \n",
    "    for x in range(x0-r, x0+r+1):\n",
    "        for y in range(y0-r, y0+r+1):\n",
    "            if abs(x-x0) + abs(y-y0) <= r:\n",
    "                circle+= [(x,y)]\n",
    "    return set(circle)\n",
    "\n",
    "with open('input.txt', 'r') as f:\n",
    "    t,d,n = map(int, f.readline().split())\n",
    "    \n",
    "    start_points = [(0,0)]\n",
    "    \n",
    "    for _ in range(n):\n",
    "        x_new,y_new = map(int, f.readline().split())\n",
    "\n",
    "        end_circle = make_a_circle(x_new,y_new, d)\n",
    "        end_points = []\n",
    "        \n",
    "        for x,y in end_circle:\n",
    "            if exists_path(x,y, start_points):\n",
    "                end_points+= [(x,y)]\n",
    "        \n",
    "        start_points = end_points\n",
    "    \n",
    "print(len(start_points))\n",
    "print('\\n'.join(map(lambda pair: f'{pair[0]} {pair[1]}',start_points)))"
   ]
  },
  {
   "cell_type": "code",
   "execution_count": 166,
   "metadata": {},
   "outputs": [],
   "source": []
  },
  {
   "cell_type": "code",
   "execution_count": 30,
   "metadata": {},
   "outputs": [
    {
     "name": "stdout",
     "output_type": "stream",
     "text": [
      "2\n",
      "1 5\n",
      "2 4\n"
     ]
    }
   ],
   "source": [
    "from math import ceil\n",
    "\n",
    "with open('input.txt', 'r') as f:\n",
    "    t,d,n = map(int, f.readline().split())\n",
    "    \n",
    "    a,b,p,q = 0,0,0,0\n",
    "    \n",
    "    for i in range(n):\n",
    "        x0, y0 = map(int, f.readline().split())\n",
    "        \n",
    "        a0, b0 = x0 + y0 - d, x0 + y0 + d\n",
    "        p0, q0 = x0 - y0 - d, x0 - y0 + d\n",
    "        \n",
    "        a -= t\n",
    "        b += t\n",
    "        p -= t\n",
    "        q += t\n",
    "        \n",
    "        a = max(a,a0)\n",
    "        b = min(b,b0)\n",
    "        p = -min(-p0,-p)\n",
    "        q = -max(-q0,-q)\n",
    "        \n",
    "A,B = ceil((a+p) / 2), (q+b) // 2\n",
    "arr = []\n",
    "\n",
    "for x in range(A, B+1):\n",
    "    P = max(a-x, x-q)\n",
    "    Q = min(b-x, x-p)\n",
    "    \n",
    "    for y in range(P,Q+1):\n",
    "        arr += [(x,y)]\n",
    "\n",
    "print(len(arr))\n",
    "print('\\n'.join(map(lambda pair: f'{pair[0]} {pair[1]}',arr)))"
   ]
  }
 ],
 "metadata": {
  "kernelspec": {
   "display_name": "Python 3",
   "language": "python",
   "name": "python3"
  },
  "language_info": {
   "codemirror_mode": {
    "name": "ipython",
    "version": 3
   },
   "file_extension": ".py",
   "mimetype": "text/x-python",
   "name": "python",
   "nbconvert_exporter": "python",
   "pygments_lexer": "ipython3",
   "version": "3.8.5"
  }
 },
 "nbformat": 4,
 "nbformat_minor": 4
}
