{
 "cells": [
  {
   "cell_type": "code",
   "execution_count": 13,
   "metadata": {},
   "outputs": [
    {
     "name": "stdout",
     "output_type": "stream",
     "text": [
      "NO\n",
      "NO\n",
      "YES\n",
      "YES\n",
      "NO\n"
     ]
    }
   ],
   "source": [
    "with open('input.txt','r') as f:\n",
    "    n,k = map(int, f.readline().split())\n",
    "    arrn = list(map(int, f.readline().split()))\n",
    "    arrk = list(map(int, f.readline().split()))\n",
    "\n",
    "for el in arrk:\n",
    "    L, R = 0, n-1\n",
    "    flag = False\n",
    "\n",
    "    while L < R:\n",
    "        m = (L+R)//2\n",
    "\n",
    "        if arrn[m] > el:\n",
    "            R = m\n",
    "        elif arrn[m] < el:\n",
    "            L = m+1\n",
    "        else:\n",
    "            flag = True\n",
    "            break\n",
    "            \n",
    "    if L == R and arrn[L] == el:\n",
    "        flag = True\n",
    "        \n",
    "    print('YES' if flag else 'NO')"
   ]
  },
  {
   "cell_type": "code",
   "execution_count": null,
   "metadata": {},
   "outputs": [],
   "source": []
  },
  {
   "cell_type": "code",
   "execution_count": 1,
   "metadata": {},
   "outputs": [],
   "source": [
    "with open('input.txt','r') as f:\n",
    "    w,h,n = map(int, f.readline().split())\n",
    "\n",
    "max_size = max(w,h)\n",
    "arr = range(max_size, max_size*n + 1)\n",
    "arr_len = max_size*n - max_size + 1\n",
    "\n",
    "L, R = 0, arr_len-1\n",
    "\n",
    "while L < R:\n",
    "    m = (L+R)//2\n",
    "    \n",
    "    kw = arr[m] // w\n",
    "    kh = arr[m] // h\n",
    "\n",
    "    if kw*kh >= n:\n",
    "        R = m\n",
    "    elif kw*kh < n:\n",
    "        L = m+1\n",
    "\n",
    "print(arr[L])"
   ]
  },
  {
   "cell_type": "code",
   "execution_count": 2,
   "metadata": {},
   "outputs": [],
   "source": []
  },
  {
   "cell_type": "code",
   "execution_count": 5,
   "metadata": {},
   "outputs": [
    {
     "name": "stdout",
     "output_type": "stream",
     "text": [
      "2\n"
     ]
    }
   ],
   "source": [
    "from math import ceil\n",
    "\n",
    "with open('input.txt','r') as f:\n",
    "    a = int(f.readline())\n",
    "    b = int(f.readline())\n",
    "    c = int(f.readline())\n",
    "    \n",
    "print(max(0,ceil(a + b/3 - c/3))) # ??? а чо так просто?"
   ]
  },
  {
   "cell_type": "code",
   "execution_count": null,
   "metadata": {},
   "outputs": [],
   "source": []
  },
  {
   "cell_type": "code",
   "execution_count": 22,
   "metadata": {},
   "outputs": [
    {
     "data": {
      "text/plain": [
       "4"
      ]
     },
     "execution_count": 22,
     "metadata": {},
     "output_type": "execute_result"
    }
   ],
   "source": [
    "with open('input.txt','r') as f:\n",
    "    n, x, y = map(int, f.readline().split())\n",
    "\n",
    "x, y = min(x, y), max(x, y)\n",
    "arr = range(x, n*y+1)\n",
    "arr_len = n*y+1 - x\n",
    "\n",
    "L, R = 0, arr_len-1\n",
    "\n",
    "while L < R:\n",
    "    m = (L+R)//2\n",
    "    \n",
    "    k1 = (arr[m]-x) // y\n",
    "    k2 = arr[m] // x\n",
    "\n",
    "    if k1 + k2 >= n:\n",
    "        R = m\n",
    "    elif k1 + k2 < n:\n",
    "        L = m+1\n",
    "print(arr[L])"
   ]
  },
  {
   "cell_type": "code",
   "execution_count": null,
   "metadata": {},
   "outputs": [],
   "source": []
  },
  {
   "cell_type": "code",
   "execution_count": null,
   "metadata": {},
   "outputs": [],
   "source": [
    "with open('input.txt','r') as f:\n",
    "    n = int(f.readline())\n",
    "    m = int(f.readline())\n",
    "    t = int(f.readline())\n",
    "    \n",
    "n, m = min(n, m), max(n, m)\n",
    "arr = range(0, n // 2 + 1)\n",
    "arr_len = n // 2 + 1\n",
    "\n",
    "L, R = 0, arr_len-1\n",
    "\n",
    "while L < R:\n",
    "    d = (L+R)//2+1\n",
    "    \n",
    "    S = 2*d*(n+m) - 4*d**2\n",
    "\n",
    "    if S > t:\n",
    "        R = d-1\n",
    "    elif S <= t:\n",
    "        L = d\n",
    "\n",
    "print(arr[L])"
   ]
  },
  {
   "cell_type": "code",
   "execution_count": null,
   "metadata": {},
   "outputs": [],
   "source": []
  },
  {
   "cell_type": "code",
   "execution_count": 4,
   "metadata": {},
   "outputs": [
    {
     "name": "stdout",
     "output_type": "stream",
     "text": [
      "0\n"
     ]
    }
   ],
   "source": [
    "with open('input.txt','r') as f:\n",
    "    n, a, b, w, h = map(int, f.readline().split())\n",
    "    \n",
    "w, h = min(w, h), max(w, h)\n",
    "a, b = min(a, b), max(a, b)\n",
    "\n",
    "# 1. ----\n",
    "ans1 = 0\n",
    "\n",
    "if b < w:\n",
    "    max_d = (w-b)//2\n",
    "    L,R = 0, max_d\n",
    "    \n",
    "    while L < R:\n",
    "        d = (L + R)//2+1\n",
    "        k = (w // (b + 2*d))*(h // (a + 2*d))\n",
    "        \n",
    "        if k < n:\n",
    "            R = d-1\n",
    "        elif k >= n:\n",
    "            L = d\n",
    "            \n",
    "    ans1 = L\n",
    "\n",
    "# 2. |\n",
    "ans2 = 0\n",
    "\n",
    "if b < h:\n",
    "    max_d = (h-b)//2\n",
    "    L,R = 0, max_d\n",
    "    \n",
    "    while L < R:\n",
    "        d = (L + R)//2+1\n",
    "        k = (w // (a + 2*d))*(h // (b + 2*d))\n",
    "        \n",
    "        if k < n:\n",
    "            R = d-1\n",
    "        elif k >= n:\n",
    "            L = d\n",
    "            \n",
    "    ans2 = L\n",
    "    \n",
    "print(max(ans1, ans2))"
   ]
  },
  {
   "cell_type": "code",
   "execution_count": null,
   "metadata": {},
   "outputs": [],
   "source": []
  },
  {
   "cell_type": "code",
   "execution_count": 20,
   "metadata": {},
   "outputs": [
    {
     "name": "stdout",
     "output_type": "stream",
     "text": [
      "7\n",
      "10\n",
      "9\n"
     ]
    }
   ],
   "source": [
    "from itertools import combinations\n",
    "\n",
    "pool = []\n",
    "\n",
    "with open('input.txt','r') as f:\n",
    "    n, l = map(int, f.readline().split())\n",
    "    \n",
    "    for _ in range(n):\n",
    "        pool += [list(map(int, f.readline().split()))]\n",
    "\n",
    "for first, second in combinations(range(n), 2):\n",
    "    arr1 = pool[first]\n",
    "    arr2 = pool[second]\n",
    "    \n",
    "    L,R = 0,0\n",
    "    i = 0\n",
    "    \n",
    "    for L in range(l):\n",
    "        \n",
    "        while i < l and R < l and arr2[R] <= arr1[L]:\n",
    "            R+=1\n",
    "            i+=1\n",
    "        \n",
    "        if i == l:\n",
    "            print(arr2[R-1])\n",
    "            break\n",
    "            \n",
    "        if R == l:\n",
    "            i+=1\n",
    "            \n",
    "            if i == l:\n",
    "                print(arr1[L])\n",
    "                break\n",
    "        else:\n",
    "            i+=1\n",
    "            if i == l:\n",
    "                print(arr1[L])\n",
    "                break"
   ]
  },
  {
   "cell_type": "code",
   "execution_count": 17,
   "metadata": {},
   "outputs": [],
   "source": []
  },
  {
   "cell_type": "code",
   "execution_count": 10,
   "metadata": {},
   "outputs": [
    {
     "name": "stdout",
     "output_type": "stream",
     "text": [
      "0\n"
     ]
    }
   ],
   "source": [
    "with open('input.txt','r') as f:\n",
    "    n, k = map(int, f.readline().split())\n",
    "    lmax = 100\n",
    "    arr = []\n",
    "    arr_len = 0\n",
    "    \n",
    "    for _ in range(n):\n",
    "        li = int(f.readline())\n",
    "        \n",
    "        if li > lmax:\n",
    "            lmax = li\n",
    "            \n",
    "        arr += [li]\n",
    "        arr_len+=1\n",
    "    \n",
    "L, R = 1, lmax\n",
    "flag = False\n",
    "\n",
    "while L < R:\n",
    "    m = (L+R) // 2 + 1# one part length\n",
    "    parts = 0\n",
    "    \n",
    "    for li in arr:\n",
    "        parts += li // m\n",
    "\n",
    "    if parts < k:\n",
    "        R = m-1\n",
    "    elif parts >= k:\n",
    "        flag = True\n",
    "        L = m\n",
    "\n",
    "print(L if flag else 0)"
   ]
  },
  {
   "cell_type": "code",
   "execution_count": null,
   "metadata": {},
   "outputs": [],
   "source": []
  },
  {
   "cell_type": "code",
   "execution_count": 128,
   "metadata": {},
   "outputs": [
    {
     "name": "stdout",
     "output_type": "stream",
     "text": [
      "7\n",
      "10\n",
      "9\n"
     ]
    }
   ],
   "source": [
    "from itertools import combinations\n",
    "\n",
    "with open('input.txt','r') as f:\n",
    "    n, l = map(int, f.readline().split())\n",
    "    arr = []\n",
    "    \n",
    "    for _ in range(n):\n",
    "        x, d, a, c, m = map(int, f.readline().split())\n",
    "        \n",
    "        asd = [x]\n",
    "        \n",
    "        for _ in range(l-1):\n",
    "            asd += [x+d]\n",
    "            x = x+d\n",
    "            d = (a*d + c) % m\n",
    "            \n",
    "        arr += [asd]\n",
    "        \n",
    "def foo(arr,n,k): # fix this\n",
    "    L,R = 0, n-1\n",
    "    \n",
    "    while L < R:\n",
    "        m = (L+R) // 2 + 1\n",
    "        \n",
    "        if arr[m] <= k:\n",
    "            L = m\n",
    "        else:\n",
    "            R = m-1\n",
    "    \n",
    "    num1 = L+1 if L > 0 or (L == 0 and arr[L] <= k)  else 0\n",
    "    \n",
    "    L,R = 0, n-1\n",
    "    \n",
    "    while L < R:\n",
    "        m = (L+R) // 2\n",
    "        \n",
    "        if arr[m] < k:\n",
    "            L = m+1\n",
    "        else:\n",
    "            R = m\n",
    "            \n",
    "    num2 = n-L if (L < n-1 and L > 0) or (L == n-1 and arr[L] >= k)  or (L == 0 and arr[L] >= k) else 0\n",
    "    return num1, num2\n",
    "\n",
    "for first, second in combinations(range(n), 2):\n",
    "    arr1 = arr[first]\n",
    "    arr2 = arr[second]\n",
    "    \n",
    "    L, R = min(arr1[0], arr2[0]), max(arr1[-1], arr2[-1])\n",
    "    \n",
    "    while L < R:\n",
    "        m = (L+R) // 2\n",
    "        \n",
    "        t1 = foo(arr1,l,m)\n",
    "        t2 = foo(arr2,l,m)        \n",
    "        num1, num2 = t1[0] + t2[0], t1[1] + t2[1]\n",
    "\n",
    "\n",
    "        if num1 >= l and num2 >= l+1:\n",
    "            L = m\n",
    "            break\n",
    "        elif num1 < l:\n",
    "            L = m+1\n",
    "        elif num2 < l+1:\n",
    "            R = m-1\n",
    "\n",
    "    print(L)"
   ]
  },
  {
   "cell_type": "code",
   "execution_count": 52,
   "metadata": {},
   "outputs": [],
   "source": []
  },
  {
   "cell_type": "code",
   "execution_count": 1,
   "metadata": {},
   "outputs": [],
   "source": [
    "with open('input.txt','r') as f:\n",
    "    n, r, c = map(int, f.readline().split())\n",
    "    arr = []\n",
    "    \n",
    "    for _ in range(n):\n",
    "        arr += [int(f.readline())]\n",
    "    \n",
    "    arr.sort()\n",
    "    \n",
    "def foo(arr,n,m,c):\n",
    "    cnt = 0\n",
    "    L = 0\n",
    "    \n",
    "    while L <= n-c:\n",
    "        R = L + c\n",
    "        \n",
    "        if R > n:\n",
    "            break\n",
    "        \n",
    "        if arr[R-1] - arr[L] <= m:\n",
    "            cnt+=1\n",
    "            L = R\n",
    "        else:\n",
    "            L+= 1\n",
    "    return cnt\n",
    "\n",
    "L, R = 0, arr[-1] - arr[0]\n",
    "\n",
    "while L < R:\n",
    "    m = (L+R) // 2\n",
    "    num = foo(arr, n, m, c)\n",
    "    \n",
    "    if num < r:\n",
    "        L = m+1\n",
    "    else:\n",
    "        R = m\n",
    "        \n",
    "print(L)"
   ]
  }
 ],
 "metadata": {
  "kernelspec": {
   "display_name": "Python 3",
   "language": "python",
   "name": "python3"
  },
  "language_info": {
   "codemirror_mode": {
    "name": "ipython",
    "version": 3
   },
   "file_extension": ".py",
   "mimetype": "text/x-python",
   "name": "python",
   "nbconvert_exporter": "python",
   "pygments_lexer": "ipython3",
   "version": "3.8.5"
  }
 },
 "nbformat": 4,
 "nbformat_minor": 4
}
