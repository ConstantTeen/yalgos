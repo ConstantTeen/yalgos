{
 "cells": [
  {
   "cell_type": "code",
   "execution_count": 13,
   "metadata": {},
   "outputs": [
    {
     "name": "stdout",
     "output_type": "stream",
     "text": [
      "Ololo\n"
     ]
    }
   ],
   "source": [
    "with open('input.txt', 'r') as f:\n",
    "    n = int(f.readline())\n",
    "    d = dict()\n",
    "\n",
    "    for i in range(n):\n",
    "        first, second = f.readline().split()\n",
    "\n",
    "        d[first] = i\n",
    "        d[second] = i\n",
    "        \n",
    "    string = f.readline().split()[0]\n",
    "    i = d[string]\n",
    "    \n",
    "    for k in d:\n",
    "        if d[k] == i and k != string:\n",
    "            answer = k\n",
    "    if answer is None:\n",
    "        answer = string\n",
    "    \n",
    "    print(answer)\n",
    "    \n",
    "answer = None"
   ]
  },
  {
   "cell_type": "code",
   "execution_count": 12,
   "metadata": {},
   "outputs": [],
   "source": []
  },
  {
   "cell_type": "code",
   "execution_count": 22,
   "metadata": {},
   "outputs": [
    {
     "name": "stdout",
     "output_type": "stream",
     "text": [
      "0 0 1 0\n"
     ]
    }
   ],
   "source": [
    "with open('input.txt', 'r') as f:\n",
    "    words = f.read().split()\n",
    "    answer = []\n",
    "    d = dict()\n",
    "    \n",
    "    for w in words:\n",
    "        if w in d.keys():\n",
    "            answer += [d[w]]\n",
    "            d[w] += 1\n",
    "        else:\n",
    "            d[w] = 1\n",
    "            answer += [0]\n",
    "     \n",
    "    print(*answer)"
   ]
  },
  {
   "cell_type": "code",
   "execution_count": null,
   "metadata": {},
   "outputs": [],
   "source": []
  },
  {
   "cell_type": "code",
   "execution_count": 35,
   "metadata": {},
   "outputs": [
    {
     "name": "stdout",
     "output_type": "stream",
     "text": [
      "a\n"
     ]
    }
   ],
   "source": [
    "with open('input.txt', 'r') as f:\n",
    "    words = f.read().split()\n",
    "    d = dict()\n",
    "    \n",
    "    for w in words:\n",
    "        if w in d.keys():\n",
    "            d[w] += 1\n",
    "        else:\n",
    "            d[w] = 1\n",
    "    \n",
    "    max_val = max(d.values())\n",
    "    max_keys = [k for k in d.keys() if d[k] == max_val]    \n",
    "    \n",
    "    print(min(max_keys))"
   ]
  },
  {
   "cell_type": "code",
   "execution_count": null,
   "metadata": {},
   "outputs": [],
   "source": []
  },
  {
   "cell_type": "code",
   "execution_count": 36,
   "metadata": {},
   "outputs": [
    {
     "name": "stdout",
     "output_type": "stream",
     "text": [
      "YES\n",
      "NO\n",
      "NO\n",
      "NO\n",
      "YES\n"
     ]
    }
   ],
   "source": [
    "with open('input.txt', 'r') as f:\n",
    "    n = int(f.readline())\n",
    "    max_press = [0] + list(map(int, f.readline().split()))\n",
    "    k = int(f.readline())\n",
    "    press_seq = list(map(int, f.readline().split()))\n",
    "    \n",
    "    d = [0 for _ in range(n + 1)]\n",
    "    \n",
    "    for p in press_seq:\n",
    "        d[p] += 1\n",
    "        \n",
    "    for i in range(1, n+1):\n",
    "        if d[i] > max_press[i]:\n",
    "            print('YES')\n",
    "        else:\n",
    "            print('NO')"
   ]
  },
  {
   "cell_type": "code",
   "execution_count": null,
   "metadata": {},
   "outputs": [],
   "source": []
  },
  {
   "cell_type": "code",
   "execution_count": 38,
   "metadata": {},
   "outputs": [
    {
     "name": "stdout",
     "output_type": "stream",
     "text": [
      "5\n"
     ]
    }
   ],
   "source": [
    "with open('input.txt', 'r') as f:\n",
    "    n = int(f.readline())\n",
    "    d = dict()\n",
    "    \n",
    "    for _ in range(n):\n",
    "        w,h = map(int, f.readline().split())\n",
    "        \n",
    "        if (w in d.keys() and d[w] < h) or (w not in d.keys()):\n",
    "            d[w] = h\n",
    "    \n",
    "    print(sum(d.values()))"
   ]
  },
  {
   "cell_type": "code",
   "execution_count": null,
   "metadata": {},
   "outputs": [],
   "source": []
  },
  {
   "cell_type": "code",
   "execution_count": 47,
   "metadata": {},
   "outputs": [
    {
     "name": "stdout",
     "output_type": "stream",
     "text": [
      "TKSNUU:\n",
      "FKXYPUGQ 49769497\n"
     ]
    }
   ],
   "source": [
    "with open('input.txt', 'r') as f:\n",
    "    d = dict()\n",
    "    \n",
    "    while True:\n",
    "        line = f.readline()\n",
    "        \n",
    "        if line == '': break\n",
    "            \n",
    "        user, product, num_str = line.split()\n",
    "        num = int(num_str)\n",
    "        \n",
    "        if user in d.keys():\n",
    "            if product in d[user].keys():\n",
    "                d[user][product] += num\n",
    "            else:\n",
    "                d[user][product] = num\n",
    "        else:\n",
    "            d[user] = dict({product: num})\n",
    "    \n",
    "    for user in sorted(d.keys()):\n",
    "        print(user + ':')\n",
    "        sub_d = d[user]\n",
    "        \n",
    "        for product in sorted(sub_d.keys()):\n",
    "            print(product, sub_d[product])\n",
    "        "
   ]
  },
  {
   "cell_type": "code",
   "execution_count": null,
   "metadata": {},
   "outputs": [],
   "source": []
  },
  {
   "cell_type": "code",
   "execution_count": 4,
   "metadata": {},
   "outputs": [
    {
     "name": "stdout",
     "output_type": "stream",
     "text": [
      "105\n",
      "-50\n",
      "ERROR\n"
     ]
    }
   ],
   "source": [
    "with open('input.txt', 'r') as f:\n",
    "    d = dict()\n",
    "    \n",
    "    while True:\n",
    "        line = f.readline()\n",
    "        \n",
    "        if line == '': break\n",
    "            \n",
    "        line = line.split()\n",
    "        comand = line[0]\n",
    "        \n",
    "        if comand == 'TRANSFER':\n",
    "            user1 = line[1]\n",
    "            user2 = line[2]\n",
    "            num = int(line[3])\n",
    "            \n",
    "            if user1 not in d.keys():\n",
    "                d[user1] = 0\n",
    "            if user2 not in d.keys():\n",
    "                d[user2] = 0\n",
    "            \n",
    "            d[user1] -= num\n",
    "            d[user2] += num\n",
    "        elif comand == 'DEPOSIT':\n",
    "            user = line[1]\n",
    "            num = int(line[2])\n",
    "\n",
    "            if user not in d.keys():\n",
    "                d[user] = 0\n",
    "\n",
    "            d[user] += num\n",
    "        elif comand == 'WITHDRAW':\n",
    "            user = line[1]\n",
    "            num = int(line[2])\n",
    "\n",
    "            if user not in d.keys():\n",
    "                d[user] = 0\n",
    "\n",
    "            d[user] -= num\n",
    "        elif comand == 'BALANCE':\n",
    "            user = line[1]\n",
    "            \n",
    "            if user not in d.keys():\n",
    "                print('ERROR')\n",
    "            else:\n",
    "                print(d[user])\n",
    "        elif comand == 'INCOME':\n",
    "            p = float(line[1])\n",
    "            \n",
    "            for user in d.keys():\n",
    "                if d[user] > 0:\n",
    "                    d[user] += int(p*d[user]/100)\n",
    "    "
   ]
  },
  {
   "cell_type": "code",
   "execution_count": 5,
   "metadata": {},
   "outputs": [],
   "source": []
  },
  {
   "cell_type": "code",
   "execution_count": 42,
   "metadata": {},
   "outputs": [
    {
     "name": "stdout",
     "output_type": "stream",
     "text": [
      "296\n"
     ]
    }
   ],
   "source": [
    "def only_one(word):\n",
    "    low = word.lower()\n",
    "    count = 0\n",
    "    i = 0\n",
    "    \n",
    "    while count <= 1 and i < len(word):\n",
    "        if word[i] != low[i]:\n",
    "            count+=1\n",
    "        i+=1\n",
    "    return count == 1\n",
    "\n",
    "with open('input.txt', 'r') as f:\n",
    "    n = int(f.readline())\n",
    "    word_dict = dict()\n",
    "    \n",
    "    for _ in range(n):\n",
    "        word = f.readline().split()[0]\n",
    "        lower = word.lower()\n",
    "        \n",
    "        if lower in word_dict.keys():\n",
    "            word_dict[lower] += [word]\n",
    "        else:\n",
    "            word_dict[lower] = [word]\n",
    "            \n",
    "    sentence = f.readline().split()\n",
    "    cnt = 0\n",
    "    \n",
    "    for w in sentence:\n",
    "        w_low = w.lower()\n",
    "        \n",
    "        if w_low in word_dict.keys() and w in word_dict[w_low]:\n",
    "            continue\n",
    "        elif w_low in word_dict.keys():\n",
    "            cnt+=1\n",
    "        elif w_low not in word_dict.keys() and only_one(w):\n",
    "            continue\n",
    "        else:\n",
    "            cnt+=1\n",
    "            \n",
    "print(cnt)"
   ]
  },
  {
   "cell_type": "code",
   "execution_count": null,
   "metadata": {},
   "outputs": [],
   "source": []
  },
  {
   "cell_type": "code",
   "execution_count": 74,
   "metadata": {},
   "outputs": [
    {
     "name": "stdout",
     "output_type": "stream",
     "text": [
      "2\n"
     ]
    }
   ],
   "source": [
    "def string2dict(string):\n",
    "    keys = [chr(i) for i in range(ord('a'), ord('z')+1)] + [chr(i) for i in range(ord('A'), ord('Z')+1)]\n",
    "    values = [0 for _ in range(52)]\n",
    "    s_dict = dict(zip(keys, values))\n",
    "\n",
    "    for s in string:\n",
    "        s_dict[s] += 1\n",
    "        \n",
    "    return s_dict\n",
    "\n",
    "with open('input.txt','r') as f:\n",
    "    g, sn = map(int, f.readline().split())\n",
    "    w = f.readline()[:-1]\n",
    "    s = f.readline()[:-1]\n",
    "    cnt = 0\n",
    "    \n",
    "    w_dict = string2dict(w)\n",
    "    s_dict = string2dict(s[:g])\n",
    "    \n",
    "    num = 0\n",
    "    \n",
    "    for k in w_dict:\n",
    "        if w_dict[k] == s_dict[k]:\n",
    "            num+=1\n",
    "            \n",
    "    if num == 52:\n",
    "        cnt+=1\n",
    "        \n",
    "    for i in range(sn-g):\n",
    "        first = s[i]\n",
    "        last = s[i+g]\n",
    "        \n",
    "        s_dict[first] -= 1\n",
    "        \n",
    "        if s_dict[first] == w_dict[first]:\n",
    "            num += 1\n",
    "        elif s_dict[first]+1 == w_dict[first]:\n",
    "            num-=1\n",
    "            \n",
    "        s_dict[last] += 1\n",
    "        \n",
    "        if s_dict[last] == w_dict[last]:\n",
    "            num += 1\n",
    "        elif s_dict[last]-1 == w_dict[last]:\n",
    "            num-=1\n",
    "        \n",
    "        if num == 52:\n",
    "            cnt+=1 \n",
    "print(cnt)"
   ]
  },
  {
   "cell_type": "code",
   "execution_count": null,
   "metadata": {},
   "outputs": [],
   "source": []
  },
  {
   "cell_type": "code",
   "execution_count": 2,
   "metadata": {},
   "outputs": [
    {
     "name": "stdout",
     "output_type": "stream",
     "text": [
      "a\n"
     ]
    }
   ],
   "source": [
    "import re\n",
    "\n",
    "delimiters = [' ', '!', '\"', '#', '$', '%', '&', \"'\", '(', ')', '*', '+', ',', '-', '.', '/', ':', ';', '<', '=', '>', '?', '@', '[', '\\\\', ']', '^', '`', '{', '|', '}', '~', '\\n']\n",
    "regexPattern = '|'.join(map(re.escape, delimiters))\n",
    "\n",
    "def is_ind(word, key_words, D):\n",
    "    if len(word) == 0:\n",
    "        return False\n",
    "\n",
    "    if D == 'no' and word[0].isnumeric():\n",
    "        return False\n",
    "\n",
    "    if word.isnumeric() or (word in key_words):\n",
    "        return False\n",
    "\n",
    "    return True\n",
    "\n",
    "with open('input.txt','r') as f:\n",
    "    n, C, D = f.readline().split()\n",
    "    n = int(n)\n",
    "    \n",
    "    key_words = set()\n",
    "    \n",
    "    for _ in range(n):\n",
    "        word = f.readline()[:-1]\n",
    "        \n",
    "        if C == 'no':\n",
    "            word = word.lower()\n",
    "        \n",
    "        key_words.add(word)\n",
    "    \n",
    "    text = f.read()\n",
    "    words = re.split(regexPattern, text)\n",
    "    d = dict()\n",
    "    max_val = 0\n",
    "    \n",
    "    for w in words:\n",
    "        if C == 'no':\n",
    "            w = w.lower()\n",
    "            \n",
    "        if is_ind(w, key_words, D):\n",
    "            if w not in d.keys():\n",
    "                d[w] = 1\n",
    "            else:\n",
    "                d[w] += 1\n",
    "            \n",
    "            if d[w] > max_val:\n",
    "                max_val = d[w]\n",
    "    \n",
    "    for key in d:\n",
    "        if d[key] == max_val:\n",
    "            print(key)\n",
    "            break\n",
    "    \n"
   ]
  }
 ],
 "metadata": {
  "kernelspec": {
   "display_name": "Python 3",
   "language": "python",
   "name": "python3"
  },
  "language_info": {
   "codemirror_mode": {
    "name": "ipython",
    "version": 3
   },
   "file_extension": ".py",
   "mimetype": "text/x-python",
   "name": "python",
   "nbconvert_exporter": "python",
   "pygments_lexer": "ipython3",
   "version": "3.8.5"
  }
 },
 "nbformat": 4,
 "nbformat_minor": 4
}
