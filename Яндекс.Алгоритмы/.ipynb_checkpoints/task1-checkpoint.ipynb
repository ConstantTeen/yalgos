{
 "cells": [
  {
   "cell_type": "code",
   "execution_count": null,
   "metadata": {},
   "outputs": [],
   "source": [
    "#https://contest.yandex.ru/contest/27393/problems/"
   ]
  },
  {
   "cell_type": "code",
   "execution_count": 13,
   "metadata": {},
   "outputs": [
    {
     "name": "stdin",
     "output_type": "stream",
     "text": [
      " 10 20\n",
      " freeze\n"
     ]
    },
    {
     "name": "stdout",
     "output_type": "stream",
     "text": [
      "10\n"
     ]
    }
   ],
   "source": [
    "troom, tcond = input().split()\n",
    "mode = input()\n",
    "troom, tcond = int(troom), int(tcond)\n",
    "if (mode == 'auto') or (mode == 'heat' and (troom <= tcond)) or (mode == 'freeze' and (troom > tcond)): \n",
    "    print(tcond)\n",
    "else:\n",
    "    print(troom)"
   ]
  },
  {
   "cell_type": "code",
   "execution_count": null,
   "metadata": {},
   "outputs": [],
   "source": []
  },
  {
   "cell_type": "code",
   "execution_count": 20,
   "metadata": {},
   "outputs": [
    {
     "name": "stdin",
     "output_type": "stream",
     "text": [
      " 3\n",
      " 5\n",
      " 4\n"
     ]
    }
   ],
   "source": [
    "a = int(input())\n",
    "b = int(input())\n",
    "c = int(input())\n",
    "if a + b > c and a + c > b and b + c > a:\n",
    "    print('YES')\n",
    "else:\n",
    "    print('NO')"
   ]
  },
  {
   "cell_type": "code",
   "execution_count": null,
   "metadata": {},
   "outputs": [],
   "source": []
  },
  {
   "cell_type": "code",
   "execution_count": 34,
   "metadata": {},
   "outputs": [
    {
     "name": "stdin",
     "output_type": "stream",
     "text": [
      " 8(495)430-23-97\n",
      " +7-4-9-5-43-023-97\n",
      " 4-3-0-2-3-9-7\n",
      " 8-495-430\n"
     ]
    }
   ],
   "source": [
    "bad_symbols = ('+','-','(',')')\n",
    "want = ''.join( c for c in input() if  c not in bad_symbols )\n",
    "num1 = ''.join( c for c in input() if  c not in bad_symbols )\n",
    "num2 = ''.join( c for c in input() if  c not in bad_symbols )\n",
    "num3 = ''.join( c for c in input() if  c not in bad_symbols )\n",
    "\n",
    "if len(want) > 7:\n",
    "        code_ = want[1:4]\n",
    "        number_ = want[4:11]\n",
    "else:\n",
    "    code_ = '495'\n",
    "    number_ = want\n",
    "        \n",
    "for n in (num1,num2,num3):\n",
    "    if len(n) > 7:\n",
    "        code = n[1:4]\n",
    "        number = n[4:11]\n",
    "    else:\n",
    "        code = '495'\n",
    "        number = n\n",
    "        \n",
    "    if code_ == code and number_ == number:\n",
    "        print('YES')\n",
    "    else:\n",
    "        print('NO')"
   ]
  },
  {
   "cell_type": "code",
   "execution_count": null,
   "metadata": {},
   "outputs": [],
   "source": []
  },
  {
   "cell_type": "code",
   "execution_count": 48,
   "metadata": {},
   "outputs": [
    {
     "name": "stdin",
     "output_type": "stream",
     "text": [
      " 1\n",
      " 2\n",
      " -3\n"
     ]
    }
   ],
   "source": [
    "a = int(input())\n",
    "b = int(input())\n",
    "c = int(input())\n",
    "\n",
    "if a == 0 and b == c**2:\n",
    "    print('MANY SOLUTIONS')\n",
    "elif c >= 0 and (c**2 - b) % a == 0 and a != 0:\n",
    "    print((c**2 - b) // a)\n",
    "else:\n",
    "    print('NO SOLUTION')"
   ]
  },
  {
   "cell_type": "code",
   "execution_count": null,
   "metadata": {},
   "outputs": [],
   "source": []
  },
  {
   "cell_type": "code",
   "execution_count": 101,
   "metadata": {},
   "outputs": [
    {
     "name": "stdin",
     "output_type": "stream",
     "text": [
      " 5 7 3 2\n"
     ]
    },
    {
     "name": "stdout",
     "output_type": "stream",
     "text": [
      "10 5\n"
     ]
    }
   ],
   "source": [
    "a1,a2,b1,b2 = map(int,input().split())\n",
    "s1 = (a1+b1)*max((a2,b2))\n",
    "s2 = (a1+b2)*max((a2,b1))\n",
    "s3 = (a2+b1)*max((a1,b2))\n",
    "s4 = (a2+b2)*max((a1,b1))\n",
    "\n",
    "mins = min([s1,s2,s3,s4])\n",
    "if s1 == mins:\n",
    "    print((a1+b1),max((a2,b2)))\n",
    "elif s2 == mins:\n",
    "    print((a1+b2),max((a2,b1)))\n",
    "elif s3 == mins:\n",
    "    print((a2+b1),max((a1,b2)))\n",
    "elif s4 == mins:\n",
    "    print((a2+b2),max((a1,b1)))"
   ]
  },
  {
   "cell_type": "code",
   "execution_count": null,
   "metadata": {},
   "outputs": [],
   "source": []
  },
  {
   "cell_type": "code",
   "execution_count": 2,
   "metadata": {},
   "outputs": [
    {
     "name": "stdin",
     "output_type": "stream",
     "text": [
      " 1\n",
      " 2\n",
      " 3\n",
      " 4\n",
      " 5\n",
      " 6\n"
     ]
    }
   ],
   "source": [
    "a = float(input())\n",
    "b = float(input())\n",
    "c = float(input())\n",
    "d = float(input())\n",
    "e = float(input())\n",
    "f = float(input())\n",
    "if a*b*c*d != 0:\n",
    "    if b*c == a*d and e*c == f*a:\n",
    "        x = round(-c/d,5)\n",
    "        y = round(f/d,5)\n",
    "        print(1,x,y)\n",
    "    elif b*c == a*d and e*c != f*a:\n",
    "        print(0)\n",
    "    elif b*c != a*d and e*c == f*a:\n",
    "        x = round(f/c,5)\n",
    "        print(2, x, 0)\n",
    "    else:\n",
    "        y = round((e*c - f*a)/(b*c - a*d),5)\n",
    "        x = round(f/c - d/c*(e*c - f*a)/(b*c - a*d), 5)\n",
    "        print(2, x, y)\n",
    "elif a == 0 and b*c*d != 0:\n",
    "    y = round(e/b,5)\n",
    "    x = round(f/c - d*e/b/c,5)\n",
    "    print(2, x, y)\n",
    "elif b == 0 and a*c*d !=0:\n",
    "    x = round(e/a,5)\n",
    "    y = round(f/d - c/d*e/a, 5)\n",
    "    print(2, x, y)\n",
    "elif c == 0 and a*b*d !=0:\n",
    "    y = round(f/d, 5)\n",
    "    x = round(e/a-b/a*f/d, 5)\n",
    "    print(2, x, y)\n",
    "elif d == 0 and a*b*c !=0:\n",
    "    x = round(f/c, 5)\n",
    "    y = round(e/b - a/b*f/c, 5)\n",
    "    print(2, x, y)\n",
    "elif a == 0 and b == 0 and c*d != 0:\n",
    "    if e == 0:\n",
    "        print(1,round(-c/d, 5),round(f/d,5))\n",
    "    else:\n",
    "        print(0)\n",
    "elif a == 0 and c == 0 and b*d != 0:\n",
    "    if e*d == f*b:\n",
    "        y = round(e/b,5)\n",
    "        print(4,y)\n",
    "    else:\n",
    "        print(0)\n",
    "elif a == 0 and d == 0 and b*c != 0:\n",
    "    print(2, round(f/c, 5), round(e/b, 5))\n",
    "elif b == 0 and c == 0 and a*d != 0:\n",
    "    print(2, round(e/a, 5), round(f/d, 5))\n",
    "elif b == 0 and d == 0 and a*c != 0:\n",
    "    if a*f == e*c:\n",
    "        print(3,round(e/a, 5))\n",
    "    else:\n",
    "        print(0)\n",
    "elif c == 0 and d == 0 and a*b != 0:\n",
    "    if f == 0:\n",
    "        print(1,round(-a/b, 5), round(e/b, 5))\n",
    "    else:\n",
    "        print(0)\n",
    "elif a == 0 and b == 0 and c == 0 and d != 0:\n",
    "    if e != 0:\n",
    "        print(0)\n",
    "    else:\n",
    "        print(4,round(f/d, 5))\n",
    "elif a == 0 and b == 0 and d == 0 and c != 0:\n",
    "    if e != 0:\n",
    "        print(0)\n",
    "    else:\n",
    "        print(3,round(f/c, 5))\n",
    "elif a == 0 and c == 0 and d == 0 and b != 0:\n",
    "    if f != 0:\n",
    "        print(0)\n",
    "    else:\n",
    "        print(4,round(e/b, 5))\n",
    "elif b == 0 and c == 0 and d == 0 and a != 0:\n",
    "    if f != 0:\n",
    "        print(0)\n",
    "    else:\n",
    "        print(3,round(e/a, 5))\n",
    "elif a == 0 and b == 0 and c == 0 and d == 0:\n",
    "    if e == 0 and f == 0:\n",
    "        print(5)\n",
    "    else:\n",
    "        print(0)\n",
    "else:\n",
    "    print(5)"
   ]
  },
  {
   "cell_type": "code",
   "execution_count": null,
   "metadata": {},
   "outputs": [],
   "source": []
  },
  {
   "cell_type": "code",
   "execution_count": null,
   "metadata": {},
   "outputs": [],
   "source": [
    "a = float(input())\n",
    "b = float(input())\n",
    "c = float(input())\n",
    "d = float(input())\n",
    "e = float(input())\n",
    "flag = 0\n",
    "for (x,y) in ((a,b), (b,a), (a,c), (c,a), (b,c), (c,b)):\n",
    "    if x <= e and y <= d:\n",
    "        print('Yes')\n",
    "        flag = 1\n",
    "        break\n",
    "if flag == 0:\n",
    "    print('NO')"
   ]
  },
  {
   "cell_type": "code",
   "execution_count": null,
   "metadata": {},
   "outputs": [],
   "source": []
  },
  {
   "cell_type": "code",
   "execution_count": 84,
   "metadata": {},
   "outputs": [
    {
     "name": "stdin",
     "output_type": "stream",
     "text": [
      " 1 5 1 2\n"
     ]
    }
   ],
   "source": [
    "a = int(input())\n",
    "b = int(input())\n",
    "n = int(input())\n",
    "m = int(input())\n",
    "\n",
    "Tnmax = n + a*(n+1)\n",
    "Tnmin = n + a*(n-1)\n",
    "Tmmax = m + b*(m+1)\n",
    "Tmmin = m + b*(m-1)\n",
    "\n",
    "if min(Tnmax, Tmmax) < max(Tnmin, Tmmin):\n",
    "    print(-1)\n",
    "else:\n",
    "    print(max(Tnmin, Tmmin), min(Tnmax, Tmmax))"
   ]
  },
  {
   "cell_type": "code",
   "execution_count": null,
   "metadata": {},
   "outputs": [],
   "source": []
  },
  {
   "cell_type": "code",
   "execution_count": 62,
   "metadata": {},
   "outputs": [
    {
     "name": "stdin",
     "output_type": "stream",
     "text": [
      " 1 1 2\n"
     ]
    },
    {
     "name": "stdout",
     "output_type": "stream",
     "text": [
      "0\n"
     ]
    }
   ],
   "source": [
    "n,k,m = map(int,input().split())\n",
    "rest = n\n",
    "n0 = 0\n",
    "if k < m:\n",
    "    print(0)\n",
    "else:\n",
    "    while (rest >= k):\n",
    "        n0 += (rest // k)*(k//m)\n",
    "        rest = (rest % k) + (k % m)*(rest // k)\n",
    "    print(n0)"
   ]
  },
  {
   "cell_type": "code",
   "execution_count": null,
   "metadata": {},
   "outputs": [],
   "source": []
  },
  {
   "cell_type": "code",
   "execution_count": 123,
   "metadata": {},
   "outputs": [
    {
     "name": "stdin",
     "output_type": "stream",
     "text": [
      " 4 2 5 1 2\n"
     ]
    },
    {
     "name": "stdout",
     "output_type": "stream",
     "text": [
      "1 0\n"
     ]
    }
   ],
   "source": [
    "#4 2 5 1 2 = 1 0 !!!!!\n",
    "from math import ceil\n",
    "    \n",
    "K1, M, K2, P2, N2 = map(int,input().split())\n",
    "\n",
    "def foo(K1, M, K2, P2, N2):\n",
    "    if N2 > M:\n",
    "        return -1,-1\n",
    "    \n",
    "    e2 = (P2-1)*M + N2 # кол-во этажей от 1-й до К2-й квартиры\n",
    "    \n",
    "    if e2 == 1:\n",
    "        if K1 <= K2:\n",
    "            return 1,1\n",
    "        if K1 <= K2*M and M > 1:\n",
    "            return 1, 0\n",
    "        if M == 1:\n",
    "            return 0, 1\n",
    "        return 0,0\n",
    "\n",
    "    left_alpha = ceil(K2/e2)\n",
    "    right_alpha = max(ceil(K2/(e2-1)-1),1)\n",
    "    \n",
    "    if left_alpha == right_alpha:\n",
    "        alpha = left_alpha\n",
    "        \n",
    "        if (K2 < alpha*e2-alpha+1) or (K2 > alpha*e2):\n",
    "            return -1,-1\n",
    "\n",
    "        e1 = ceil(K1/alpha) # кол-во этажей от 1-й до К1-й квартиры\n",
    "        P1 = ceil(e1/M)\n",
    "        N1 = M if e1 % M == 0 else e1 % M\n",
    "\n",
    "        return P1, N1\n",
    "    \n",
    "    if M == 1:\n",
    "        P1_left = ceil(K1/right_alpha)\n",
    "        P1_right = ceil(K1/left_alpha)\n",
    "\n",
    "        if P1_left == P1_right:\n",
    "            return P1_right, 1\n",
    "        return 0, 1\n",
    "    \n",
    "    curr_P1, curr_N1 = [], []\n",
    "    \n",
    "    for alpha in range(left_alpha, right_alpha+1):\n",
    "        if (K2 < alpha*e2-alpha+1) or (K2 > alpha*e2):\n",
    "            continue\n",
    "            \n",
    "        e1 = ceil(K1/alpha)\n",
    "        P1 = ceil(e1/M)\n",
    "        N1 = M if e1 % M == 0 else e1 % M\n",
    "        \n",
    "        if P1 not in curr_P1:\n",
    "            curr_P1 += [P1]\n",
    "        if N1 not in curr_N1:\n",
    "            curr_N1 += [N1]\n",
    "    \n",
    "    if len(curr_P1)*len(curr_N1) == 0:\n",
    "        return -1,-1\n",
    "    \n",
    "    return curr_P1[0] if len(curr_P1) == 1 else 0 , curr_N1[0] if len(curr_N1) == 1 else 0\n",
    "\n",
    "a, b = foo(K1, M, K2, P2, N2)\n",
    "print(a, b)"
   ]
  }
 ],
 "metadata": {
  "kernelspec": {
   "display_name": "Python 3",
   "language": "python",
   "name": "python3"
  },
  "language_info": {
   "codemirror_mode": {
    "name": "ipython",
    "version": 3
   },
   "file_extension": ".py",
   "mimetype": "text/x-python",
   "name": "python",
   "nbconvert_exporter": "python",
   "pygments_lexer": "ipython3",
   "version": "3.8.5"
  }
 },
 "nbformat": 4,
 "nbformat_minor": 4
}
