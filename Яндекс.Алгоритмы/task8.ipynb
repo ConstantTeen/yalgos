{
 "cells": [
  {
   "cell_type": "code",
   "execution_count": 15,
   "metadata": {},
   "outputs": [
    {
     "name": "stdout",
     "output_type": "stream",
     "text": [
      "4\n"
     ]
    }
   ],
   "source": [
    "def add(node, el, i=0):\n",
    "    if node[0] is None:\n",
    "        node[0] = el\n",
    "        node[1] = [None, None, None]\n",
    "        node[2] = [None, None, None]        \n",
    "        return i\n",
    "    if node[0] > el:\n",
    "        return add(node[1], el, i+1)\n",
    "    if node[0] < el:\n",
    "        return add(node[2], el, i+1)\n",
    "    return 0\n",
    "\n",
    "with open('input.txt') as f:\n",
    "    arr = list(map(int, f.readline().split()))[:-1]\n",
    "    \n",
    "    tree = [None, None, None]\n",
    "    deepness = 0\n",
    "    \n",
    "    for el in arr:\n",
    "        deepness = max(deepness, add(tree, el))\n",
    "        \n",
    "    print(deepness+1)"
   ]
  },
  {
   "cell_type": "code",
   "execution_count": 4,
   "metadata": {},
   "outputs": [],
   "source": []
  },
  {
   "cell_type": "code",
   "execution_count": 33,
   "metadata": {},
   "outputs": [
    {
     "name": "stdout",
     "output_type": "stream",
     "text": [
      "6\n"
     ]
    }
   ],
   "source": [
    "def add(node, el, i=0):\n",
    "    if node[0] is None:\n",
    "        node[0] = el\n",
    "        node[1] = [None, None, None]\n",
    "        node[2] = [None, None, None]        \n",
    "        return i\n",
    "    if node[0] > el:\n",
    "        return add(node[1], el, i+1)\n",
    "    if node[0] < el:\n",
    "        return add(node[2], el, i+1)\n",
    "    return -1\n",
    "\n",
    "def find_max(node):\n",
    "    father = node\n",
    "    while node[2][0] is not None:\n",
    "        father, node = node, node[2]\n",
    "    return node, father\n",
    "\n",
    "with open('input.txt') as f:\n",
    "    arr = list(map(int, f.readline().split()))[:-1]\n",
    "    \n",
    "    tree = [None, None, None]\n",
    "    \n",
    "    for el in arr:\n",
    "        add(tree, el)\n",
    "        \n",
    "    max1, father1 = find_max(tree)\n",
    "\n",
    "    if father1[0] == max1[0]:\n",
    "        print(find_max(max1[1])[0][0])\n",
    "    else:\n",
    "        if max1[1][0] is None:\n",
    "            print(father1[0])\n",
    "        else:\n",
    "            print(max(father1[0], find_max(max1[1])[0][0]))"
   ]
  },
  {
   "cell_type": "code",
   "execution_count": null,
   "metadata": {},
   "outputs": [],
   "source": []
  },
  {
   "cell_type": "code",
   "execution_count": 38,
   "metadata": {},
   "outputs": [
    {
     "name": "stdout",
     "output_type": "stream",
     "text": [
      "1\n",
      "2\n",
      "3\n",
      "4\n",
      "5\n",
      "6\n",
      "7\n",
      "8\n",
      "9\n"
     ]
    }
   ],
   "source": [
    "def add(node, el, i=0):\n",
    "    if node[0] is None:\n",
    "        node[0] = el\n",
    "        node[1] = [None, None, None]\n",
    "        node[2] = [None, None, None]        \n",
    "        return i\n",
    "    if node[0] > el:\n",
    "        return add(node[1], el, i+1)\n",
    "    if node[0] < el:\n",
    "        return add(node[2], el, i+1)\n",
    "    return -1\n",
    "\n",
    "def sort(node):\n",
    "    if node[0] is None:\n",
    "        return\n",
    "    \n",
    "    sort(node[1])\n",
    "    print(node[0])\n",
    "    sort(node[2])\n",
    "    \n",
    "with open('input.txt') as f:\n",
    "    arr = list(map(int, f.readline().split()))[:-1]\n",
    "    \n",
    "    tree = [None, None, None]\n",
    "    \n",
    "    for el in arr:\n",
    "        add(tree, el)\n",
    "        \n",
    "    sort(tree)"
   ]
  },
  {
   "cell_type": "code",
   "execution_count": null,
   "metadata": {},
   "outputs": [],
   "source": []
  },
  {
   "cell_type": "code",
   "execution_count": 39,
   "metadata": {},
   "outputs": [
    {
     "name": "stdout",
     "output_type": "stream",
     "text": [
      "1\n",
      "4\n",
      "6\n",
      "8\n"
     ]
    }
   ],
   "source": [
    "def add(node, el, i=0):\n",
    "    if node[0] is None:\n",
    "        node[0] = el\n",
    "        node[1] = [None, None, None]\n",
    "        node[2] = [None, None, None]        \n",
    "        return i\n",
    "    if node[0] > el:\n",
    "        return add(node[1], el, i+1)\n",
    "    if node[0] < el:\n",
    "        return add(node[2], el, i+1)\n",
    "    return -1\n",
    "\n",
    "def leafs(node):\n",
    "    if node[0] is None:\n",
    "        return \n",
    "    if node[1][0] is None and node[2][0] is None:\n",
    "        print(node[0])\n",
    "        return\n",
    "    \n",
    "    leafs(node[1])\n",
    "    leafs(node[2])\n",
    "\n",
    "with open('input.txt') as f:\n",
    "    arr = list(map(int, f.readline().split()))[:-1]\n",
    "    \n",
    "    tree = [None, None, None]\n",
    "    \n",
    "    for el in arr:\n",
    "        add(tree, el)\n",
    "        \n",
    "    leafs(tree)"
   ]
  },
  {
   "cell_type": "code",
   "execution_count": null,
   "metadata": {},
   "outputs": [],
   "source": []
  },
  {
   "cell_type": "code",
   "execution_count": 1,
   "metadata": {},
   "outputs": [
    {
     "name": "stdout",
     "output_type": "stream",
     "text": [
      "3\n",
      "5\n",
      "7\n"
     ]
    }
   ],
   "source": [
    "def add(node, el, i=0):\n",
    "    if node[0] is None:\n",
    "        node[0] = el\n",
    "        node[1] = [None, None, None]\n",
    "        node[2] = [None, None, None]        \n",
    "        return i\n",
    "    if node[0] > el:\n",
    "        return add(node[1], el, i+1)\n",
    "    if node[0] < el:\n",
    "        return add(node[2], el, i+1)\n",
    "    return -1\n",
    "\n",
    "def fuckers(node):\n",
    "    if node[0] is None:\n",
    "        return \n",
    "    \n",
    "    fuckers(node[1])\n",
    "\n",
    "    if node[1][0] is not None and node[2][0] is not None:\n",
    "        print(node[0])\n",
    "    \n",
    "    fuckers(node[2])\n",
    "\n",
    "with open('input.txt') as f:\n",
    "    arr = list(map(int, f.readline().split()))[:-1]\n",
    "    \n",
    "    tree = [None, None, None]\n",
    "    \n",
    "    for el in arr:\n",
    "        add(tree, el)\n",
    "        \n",
    "    fuckers(tree)"
   ]
  },
  {
   "cell_type": "code",
   "execution_count": null,
   "metadata": {},
   "outputs": [],
   "source": []
  },
  {
   "cell_type": "code",
   "execution_count": 1,
   "metadata": {},
   "outputs": [
    {
     "name": "stdout",
     "output_type": "stream",
     "text": [
      "2\n",
      "9\n"
     ]
    }
   ],
   "source": [
    "def add(node, el, i=0):\n",
    "    if node[0] is None:\n",
    "        node[0] = el\n",
    "        node[1] = [None, None, None]\n",
    "        node[2] = [None, None, None]        \n",
    "        return i\n",
    "    if node[0] > el:\n",
    "        return add(node[1], el, i+1)\n",
    "    if node[0] < el:\n",
    "        return add(node[2], el, i+1)\n",
    "    return -1\n",
    "\n",
    "def fuckers(node):\n",
    "    if node[0] is None:\n",
    "        return \n",
    "    \n",
    "    fuckers(node[1])\n",
    "\n",
    "    if (node[1][0] is not None and node[2][0] is None) or (node[1][0] is None and node[2][0] is not None):\n",
    "        print(node[0])\n",
    "    \n",
    "    fuckers(node[2])\n",
    "\n",
    "with open('input.txt') as f:\n",
    "    arr = list(map(int, f.readline().split()))[:-1]\n",
    "    \n",
    "    tree = [None, None, None]\n",
    "    \n",
    "    for el in arr:\n",
    "        add(tree, el)\n",
    "        \n",
    "    fuckers(tree)"
   ]
  },
  {
   "cell_type": "code",
   "execution_count": null,
   "metadata": {},
   "outputs": [],
   "source": []
  },
  {
   "cell_type": "code",
   "execution_count": 5,
   "metadata": {},
   "outputs": [
    {
     "name": "stdout",
     "output_type": "stream",
     "text": [
      "YES\n"
     ]
    }
   ],
   "source": [
    "def add(node, el, i=0):\n",
    "    if node[0] is None:\n",
    "        node[0] = el\n",
    "        node[1] = [None, None, None]\n",
    "        node[2] = [None, None, None]        \n",
    "        return i\n",
    "    if node[0] > el:\n",
    "        return add(node[1], el, i+1)\n",
    "    if node[0] < el:\n",
    "        return add(node[2], el, i+1)\n",
    "    return -1\n",
    "\n",
    "def AWL(node):\n",
    "    if node[0] is None:\n",
    "        return 0, 'YES'\n",
    "    if node[1][0] is None and node[2][0] is None:\n",
    "        return 1, 'YES'\n",
    "    \n",
    "    left, left_ans = AWL(node[1])\n",
    "    right, right_ans = AWL(node[2])\n",
    "    \n",
    "    if left_ans == 'YES' and right_ans == 'YES':\n",
    "        if abs(right - left) <= 1:\n",
    "            return max(right, left)+1, 'YES'\n",
    "    return 0, 'NO'\n",
    "\n",
    "with open('input.txt') as f:\n",
    "    arr = list(map(int, f.readline().split()))[:-1]\n",
    "    \n",
    "    tree = [None, None, None]\n",
    "    \n",
    "    for el in arr:\n",
    "        add(tree, el)\n",
    "        \n",
    "    deepness, ans = AWL(tree)\n",
    "    \n",
    "    print(ans)"
   ]
  },
  {
   "cell_type": "code",
   "execution_count": null,
   "metadata": {},
   "outputs": [],
   "source": []
  },
  {
   "cell_type": "code",
   "execution_count": 26,
   "metadata": {},
   "outputs": [
    {
     "name": "stdout",
     "output_type": "stream",
     "text": [
      "Alexander_I 0\n",
      "Alexei 1\n",
      "Anna 4\n",
      "Elizabeth 0\n",
      "Nicholaus_I 0\n",
      "Paul_I 2\n",
      "Peter_I 8\n",
      "Peter_II 0\n",
      "Peter_III 3\n"
     ]
    }
   ],
   "source": [
    "with open('input.txt') as f:\n",
    "    n = int(f.readline())\n",
    "    d = dict()\n",
    "    \n",
    "    ans = dict()\n",
    "    \n",
    "    for _ in range(n-1):\n",
    "        child, father = f.readline().split()\n",
    "        d[child] = father\n",
    "        ans[father] = 0\n",
    "        ans[child] = 0\n",
    "    \n",
    "    leafs = set(d.keys()) - set(d.values())\n",
    "    great_father = list(set(d.values()) - set(d.keys()))[0]\n",
    "    \n",
    "    for baby in leafs:\n",
    "        father = d[baby]\n",
    "        i = 1\n",
    "        ans[father] += i\n",
    "        flag = (ans[father] == 1)\n",
    "        \n",
    "        while father != great_father:\n",
    "            father = d[father]\n",
    "            if flag: i+=1\n",
    "            ans[father] += i\n",
    "            if ans[father] > i:\n",
    "                flag = False\n",
    "            \n",
    "    for k in sorted(ans):\n",
    "        print(k, ans[k])"
   ]
  },
  {
   "cell_type": "code",
   "execution_count": null,
   "metadata": {},
   "outputs": [],
   "source": []
  },
  {
   "cell_type": "code",
   "execution_count": 32,
   "metadata": {},
   "outputs": [
    {
     "name": "stdout",
     "output_type": "stream",
     "text": [
      "BFNRMLH 3\n",
      "CSZMPFXBZ 2\n",
      "FMVQTU 9\n",
      "FUXATQUGIG 8\n",
      "GNVIZ 6\n",
      "IHWBQDJ 1\n",
      "IQGIGUJZ 5\n",
      "IRVAVMQKN 7\n",
      "JMUPNYRQD 4\n",
      "LACXYFQHSQ 0\n"
     ]
    }
   ],
   "source": [
    "with open('input.txt') as f:\n",
    "    n = int(f.readline())\n",
    "    d = dict()\n",
    "    \n",
    "    ans = dict()\n",
    "    \n",
    "    for _ in range(n-1):\n",
    "        child, father = f.readline().split()\n",
    "        d[child] = father\n",
    "        ans[father] = 0\n",
    "        ans[child] = 0\n",
    "        \n",
    "leafs = set(d.keys()) - set(d.values())\n",
    "great_father = list(set(d.values()) - set(d.keys()))[0]\n",
    "\n",
    "for baby in leafs:\n",
    "    i = 0\n",
    "    father = d[baby]\n",
    "    arr = [baby, father]\n",
    "    \n",
    "    while father != great_father:\n",
    "        father = d[father]\n",
    "        arr += [father]\n",
    "        i+=1\n",
    "    i+=1\n",
    "    \n",
    "    for guy in arr:\n",
    "        ans[guy] = i\n",
    "        i-=1\n",
    "        \n",
    "for k in sorted(ans):\n",
    "    print(k, ans[k])"
   ]
  },
  {
   "cell_type": "code",
   "execution_count": null,
   "metadata": {},
   "outputs": [],
   "source": []
  }
 ],
 "metadata": {
  "kernelspec": {
   "display_name": "Python 3",
   "language": "python",
   "name": "python3"
  },
  "language_info": {
   "codemirror_mode": {
    "name": "ipython",
    "version": 3
   },
   "file_extension": ".py",
   "mimetype": "text/x-python",
   "name": "python",
   "nbconvert_exporter": "python",
   "pygments_lexer": "ipython3",
   "version": "3.8.5"
  }
 },
 "nbformat": 4,
 "nbformat_minor": 4
}
